{
 "cells": [
  {
   "cell_type": "markdown",
   "id": "57245600",
   "metadata": {},
   "source": [
    "# Машинное обучение, ВМК МГУ\n",
    "\n",
    "# Практическое задание 2. Методы оптимизации в машинном обучении\n",
    "\n",
    "## Общая информация\n",
    "Дата выдачи: 20.02.2025\n",
    "\n",
    "Мягкий дедлайн: 07.03.2025 05:00 MSK\n",
    "\n",
    "Жёсткий дедлайн: 14.03.2025 05:00 MSK\n",
    "\n",
    "## Оценивание и штрафы\n",
    "Каждая из задач имеет определенную «стоимость» (указана в скобках около задачи). **Максимальная оценка за работу  — 10 баллов + 9.2 бонусов.**\n",
    "\n",
    "Сдавать задание после указанного жёсткого срока сдачи нельзя. При выставлении неполного балла за задание в связи с наличием ошибок на усмотрение проверяющего предусмотрена возможность исправить работу на указанных в ответном письме условиях.\n",
    "\n",
    "Задание выполняется самостоятельно. «Похожие» решения считаются плагиатом и все задействованные студенты (в том числе те, у кого списали) не могут получить за него больше 0 баллов (подробнее о плагиате см. на странице курса). Если вы нашли решение какого-то из заданий (или его часть) в открытом источнике, необходимо указать ссылку на этот источник в отдельном блоке в конце вашей работы (скорее всего вы будете не единственным, кто это нашел, поэтому чтобы исключить подозрение в плагиате, необходима ссылка на источник).\n",
    "\n",
    "Неэффективная реализация кода может негативно отразиться на оценке.\n",
    "\n",
    "## Формат сдачи\n",
    "Задания сдаются через систему anytask. Посылка должна содержать:\n",
    "* Ноутбук homework-practice-optimization-Username.ipynb"
   ]
  },
  {
   "cell_type": "markdown",
   "id": "8dfd9889",
   "metadata": {},
   "source": [
    "<p style=\"color:#de3815;font-size:25px;\">\n",
    "Напоминание об оформлении и выполнении ноутбука\n",
    "</p>"
   ]
  },
  {
   "cell_type": "markdown",
   "id": "cafc66f2",
   "metadata": {},
   "source": [
    "* Все строчки должны быть выполнены. Нужно, чтобы output команды можно было увидеть, не запуская ячейки (кроме редких случаев, когда необходимо намеренно скрыть ненужный output, про такие случаи желательно писать пояснения в тексте). **В противном случае -1 балл**\n",
    "* При оформлении ДЗ нужно пользоваться данным файлом в качестве шаблона. Не нужно удалять и видоизменять написанный код и текст, если явно не указана такая возможность. **В противном случае -1 балл**\n",
    "* В anytask обязательно нужно прикреплять отдельно файл с расширением ipynb (не в архиве, а именно отдельно). Если необходимо отправить еще какие-то файлы, то вынесите их в отдельный архив (если файлов много) и пришлите. **В противном случае -0.5 балла**\n",
    "---\n",
    "* Пишите, пожалуйста, выводы и ответы на вопросы в текстовых ячейках/при помощи print в коде. При их отсутствии мы не можем понять, сделали ли вы задание и понимаете, что происходит, и **поэтому будем снижать баллы**\n",
    "* Если алгоритм не сказано реализовывать явно, его всегда можно импортировать из библиотеки.\n",
    "---\n",
    "* Про графики. _Штрафы будут применяться к каждому результату команды отображения графика (plt.show() и др. аналогичные). Исключением являются графики, генерируемые функциями каких-либо сторонних библиотек, если их нельзя кастомизировать_\n",
    "\n",
    "    * должно быть название (plt.title) графика; **В противном случае &ndash; -0.05 балла**\n",
    "    * на графиках должны быть подписаны оси (plt.xlabel, plt.ylabel); **В противном случае &ndash; -0.025 балла за каждую ось**\n",
    "    * должны быть подписаны единицы измерения (если это возможно); **В противном случае &ndash; -0.025 балла за каждую ось**\n",
    "    * все названия должны быть понятны любому человеку, знакомому с терминологией, без заглядывания в код; **В противном случае &ndash; -0.05 балла**\n",
    "    * подписи тиков на осях не должны сливаться как на одной оси, так и между ними; **В противном случае &ndash; -0.025 балла за каждую ось**\n",
    "    * если изображено несколько сущностей на одном холсте (например несколько функций), то необходима поясняющая легенда (plt.legend); **В противном случае &ndash; -0.05 балла**\n",
    "    * все линии на графиках должны быть чётко видны (нет похожих цветов или цветов, сливающихся с фоном); **В противном случае &ndash; -0.05 балла**\n",
    "    * если отображена величина, имеющая очевидный диапазон значений (например, проценты могут быть от 0 до 100), то желательно масштабировать ось на весь диапазон значений (исключением является случай, когда вам необходимо показать малое отличие, которое незаметно в таких масштабах);\n",
    "    * графики должны быть не супер-микро и не супер-макро по размерам, так, чтобы можно было увидеть все, что нужно.\n",
    "    * при необходимости улучшения наглядности графиков, можно пользоваться логарифмической шкалой по осям x/y.\n",
    "    \n",
    "    \n",
    "### А также..\n",
    "\n",
    "* Для удобства поиска вопросов, на которые от вас просят ответа, мы пометили их знаком **(?)**\n",
    "* Знак **(!)** означает, что выполнение замечания необходимо для **возможности получения полного балла**\n",
    "* Даем до +0.3 балла за выдающиеся успехи по субъективному мнению проверяющих. Этот **бонус** не апеллируется"
   ]
  },
  {
   "cell_type": "markdown",
   "id": "b9df0de9",
   "metadata": {},
   "source": [
    "### Часть 1. (1.5 балла) Негладкая оптимизация\n",
    "\n",
    "В этом разделе мы рассмотрим задачу Lasso регрессии и сравним рассказанные на парах методы: субградиентный метод, ISTA и FISTA. Напомним, что задача выглядит следующим образом:\n",
    "\n",
    "$$\n",
    "\\min_x \\frac{1}{2}\\|Ax - y \\|^2_2 + \\gamma \\|x\\|_1\n",
    "$$"
   ]
  },
  {
   "cell_type": "markdown",
   "id": "bcff1257",
   "metadata": {},
   "source": [
    "Для автоматического вычисления градиентов предлагается использовать jax, вы можете считать их руками или через torch, но мы считаем, что знать о существовании этой библиотеки полезно, тем более, что для выполнения задания достаточно знать информации с [этой страницы](https://jax.readthedocs.io/en/latest/notebooks/quickstart.html)."
   ]
  },
  {
   "cell_type": "code",
   "execution_count": 1,
   "id": "81ce8fd5",
   "metadata": {},
   "outputs": [],
   "source": [
    "import numpy as np\n",
    "import matplotlib.pyplot as plt\n",
    "import matplotlib\n",
    "import seaborn as sns\n",
    "import cv2\n",
    "import tqdm\n",
    "import jax.numpy as jnp\n",
    "from jax import grad, jit, vmap\n",
    "import sklearn.preprocessing as skprep"
   ]
  },
  {
   "cell_type": "code",
   "execution_count": 2,
   "id": "c925bb32",
   "metadata": {},
   "outputs": [],
   "source": [
    "%config InlineBackend.figure_formats = ['svg']\n",
    "sns.set_style('darkgrid')"
   ]
  },
  {
   "cell_type": "markdown",
   "id": "50810ffa",
   "metadata": {},
   "source": [
    "Для сравнения методов сгенерируем данные:"
   ]
  },
  {
   "cell_type": "code",
   "execution_count": 3,
   "id": "a79f64d9",
   "metadata": {},
   "outputs": [],
   "source": [
    "m = 500\n",
    "n = 2500\n",
    "np.random.seed(1)\n",
    "A = np.random.rand(m, n) # матрица\n",
    "A = skprep.normalize(A, norm=\"l2\", axis=0)\n",
    "U, S, Vh = np.linalg.svd(A, full_matrices=False)\n",
    "S[-1] = min(S[-1], S[0] / 100000)\n",
    "A = U @ (S[:, None] * Vh)\n",
    "x_true = np.random.randn(n) # решение\n",
    "x_true[np.random.rand(n) < 0.96] = 0\n",
    "v = 9e-2 * np.random.randn(m)\n",
    "y = A.dot(x_true) + v # таргет\n",
    "gamma = 0.01 * np.linalg.norm(A.T.dot(y), ord=np.inf) # предлагаемый коэффициент регуляризации\n",
    "x0 = np.random.rand(n) # начальное приближение"
   ]
  },
  {
   "cell_type": "markdown",
   "id": "399df0fc",
   "metadata": {},
   "source": [
    "Давайте посмотрим на степень разреженности решения"
   ]
  },
  {
   "cell_type": "code",
   "execution_count": 4,
   "id": "cbb68efd",
   "metadata": {},
   "outputs": [
    {
     "name": "stdout",
     "output_type": "stream",
     "text": [
      "Number of nonzeros in x_true is 84 out of 2500\n"
     ]
    }
   ],
   "source": [
    "print(f\"Number of nonzeros in x_true is {np.sum(x_true != 0)} out of {x_true.shape[0]}\")"
   ]
  },
  {
   "cell_type": "markdown",
   "id": "e1dd1a72",
   "metadata": {},
   "source": [
    "**Задание 1. (0.15 баллов)** реализуйте оракул для Lasso регрессии с использованием jax, также реализуйте отдельно оракул для части с регрессией и для регуляризации, а также их градиентов. Для регуляризации добавьте метод prox, который вычисляет проксимальный оператор в заданной точке. \n",
    "\n",
    "*Замечание*. Вы можете менять интерфейсы классов так, как считаете нужным, предложенный вариант - один из возможных. Главное, чтобы все работало"
   ]
  },
  {
   "cell_type": "code",
   "execution_count": 5,
   "id": "f74df9e3",
   "metadata": {},
   "outputs": [],
   "source": [
    "class LassoRegressionOracle:\n",
    "    '''\n",
    "    Class for whole Lasso regression oracle\n",
    "    '''\n",
    "    def __init__(self, A, y, gamma):\n",
    "        ### YOUR AMAZING CODE HERE\n",
    "        pass\n",
    "    \n",
    "    def __call__(self, x):\n",
    "        ### YOUR AMAZING CODE HERE\n",
    "        pass\n",
    "        \n",
    "    def grad(self, x):\n",
    "        ### YOUR AMAZING CODE HERE\n",
    "        ### Hint: use jax\n",
    "        pass"
   ]
  },
  {
   "cell_type": "code",
   "execution_count": 6,
   "id": "87425840",
   "metadata": {},
   "outputs": [],
   "source": [
    "class BasicRegressionOracle:\n",
    "    '''\n",
    "    Class for regression part of lasso regression \n",
    "    '''\n",
    "    def __init__(self, A, y):\n",
    "        ### YOUR AMAZING CODE HERE\n",
    "        pass\n",
    "    \n",
    "    def __call__(self, x):\n",
    "        ### YOUR AMAZING CODE HERE\n",
    "        pass\n",
    "    \n",
    "    def grad(self, x):\n",
    "        ### YOUR AMAZING CODE HERE\n",
    "        ### Hint: use jax\n",
    "        pass"
   ]
  },
  {
   "cell_type": "code",
   "execution_count": 7,
   "id": "76c6fae7",
   "metadata": {},
   "outputs": [],
   "source": [
    "class L1RegularizationOracle:\n",
    "    '''\n",
    "    Class for regularization part of lasso regression\n",
    "    '''\n",
    "    def __init__(self, gamma):\n",
    "        ### YOUR AMAZING CODE HERE\n",
    "        pass\n",
    "    \n",
    "    def __call__(self, x):\n",
    "        ### YOUR AMAZING CODE HERE\n",
    "        pass\n",
    "    \n",
    "    def prox(self, x, alpha):\n",
    "        ### YOUR AMAZING CODE HERE\n",
    "        pass"
   ]
  },
  {
   "cell_type": "markdown",
   "id": "21221c1f",
   "metadata": {},
   "source": [
    "Выведите значения функционалов в точке x0:"
   ]
  },
  {
   "cell_type": "code",
   "execution_count": 8,
   "id": "b782c470",
   "metadata": {},
   "outputs": [],
   "source": [
    "full_oracle = LassoRegressionOracle(A, y, gamma)\n",
    "regression_oracle = BasicRegressionOracle(A, y)\n",
    "regularization_oracle = L1RegularizationOracle(gamma)\n",
    "\n",
    "assert np.allclose(full_oracle(x0), 581375.6875)\n",
    "assert np.allclose(regression_oracle(x0), 581222.1875)\n",
    "assert np.allclose(regularization_oracle(x0), 153.4744415283203)\n",
    "assert np.allclose(full_oracle.grad(x0).sum(), 2334791.5)\n",
    "assert np.allclose(regression_oracle.grad(x0).sum(), 2334486.8)\n",
    "assert np.allclose(regularization_oracle.prox(x0, 1).sum(), 973.6881)"
   ]
  },
  {
   "cell_type": "markdown",
   "id": "fb0f819f",
   "metadata": {},
   "source": [
    "**Задание 2 (0.65 баллов)**. Реализуйте субградиентный метод, ISTA и FISTA.\n",
    "\n",
    "1) Для субградиентного метода возьмите шаг $\\alpha_k=\\frac{1}{\\sqrt{k + 1}}$. Он является одним из самых популярных выборов для рассматриваемого метода. **Обратите внимание**, что для субградиентного метода результатом является не последняя точка, а точка, в которой наблюдалось минимальное значение функционала\n",
    "\n",
    "2) Для ISTA/FISTA выберете константный шаг. **Аккуратно следите за согласованием параметра прокса и lr**\n",
    "\n",
    "3) Параметр, отвечающий за ускорение, возьмите равным $\\frac{k}{k+3}$\n",
    "\n",
    "*Замечание*. Вы можете менять интерфейсы функций так, как считаете нужным, предложенный вариант - один из возможных. Главное, чтобы все работало"
   ]
  },
  {
   "cell_type": "code",
   "execution_count": null,
   "id": "8637cda5",
   "metadata": {},
   "outputs": [],
   "source": [
    "def subgradient_method(oracle, max_iters, x0):\n",
    "    \"\"\"\n",
    "    Функция, реализующая субградиентный метод\n",
    "    :oracle - оракул\n",
    "    :max_iters - максимальное количество итераций\n",
    "    :x0 - начальная точка\n",
    "    \n",
    "    Функция возвращает историю (наименьшее значение функции по итерациям) и итоговую точку\n",
    "    \"\"\"\n",
    "    ### YOUR AMAZING CODE HERE\n",
    "    return history, x_result"
   ]
  },
  {
   "cell_type": "code",
   "execution_count": null,
   "id": "6f7467fc",
   "metadata": {},
   "outputs": [],
   "source": [
    "def ISTA(full_oracle, regression_oracle, regularization_oracle, max_iters, x0, step_size):\n",
    "    \"\"\"\n",
    "    Функция, реализующая проксимальный градиентный метод, в данном случае это будет ISTA\n",
    "    :full_oracle - полный оракул\n",
    "    :regression_oracle - оракул, содержащий регрессионную часть\n",
    "    :regularization_oracle - оракул, содержащий регуляризационную\n",
    "    :max_iters - максимальное количество итераций\n",
    "    :x0 - начальная точка\n",
    "    :step_size - размер шага\n",
    "    \n",
    "    Функция возвращает историю (значение функции в полученных в процессе итераций точках) и итоговую точку\n",
    "    \"\"\"\n",
    "    ### YOUR AMAZING CODE HERE\n",
    "    return history, x_k"
   ]
  },
  {
   "cell_type": "code",
   "execution_count": null,
   "id": "d2f2e259",
   "metadata": {},
   "outputs": [],
   "source": [
    "def FISTA(full_oracle, regression_oracle, regularization_oracle, max_iters, x0, step_size):\n",
    "    \"\"\"\n",
    "    Функция, реализующая ускоренный проксимальный градиентный метод, в данном случае это будет FISTA\n",
    "    :full_oracle - полный оракул\n",
    "    :regression_oracle - оракул, содержащий регрессионную часть\n",
    "    :regularization_oracle - оракул, содержащий регуляризационную\n",
    "    :max_iters - максимальное количество итераций\n",
    "    :x0 - начальная точка\n",
    "    :step_size - размер шага\n",
    "    \n",
    "    Функция возвращает историю (значение функции в полученных в процессе итераций точках) и итоговую точку\n",
    "    \"\"\"\n",
    "    ### YOUR AMAZING CODE HERE\n",
    "    return history, x_k"
   ]
  },
  {
   "cell_type": "markdown",
   "id": "c7c32a66",
   "metadata": {},
   "source": [
    "**Задание 3. (0.3 баллов)** Посмотрите на скорость сходимости (используйте логарифмическую шкалу) ISTA и FISTA при разных размерах шага. Выберите лучший, сделайте выводы. Рассмотрите не менее 5 размеров шагов в диапазоне $10^{-4}...1$. **Используйте не менее 30000 итераций**"
   ]
  },
  {
   "cell_type": "code",
   "execution_count": null,
   "id": "bccaf1f5",
   "metadata": {},
   "outputs": [],
   "source": [
    "### YOUR CODE HERE"
   ]
  },
  {
   "cell_type": "markdown",
   "id": "21ace0c6",
   "metadata": {},
   "source": [
    "**Выводы:**"
   ]
  },
  {
   "cell_type": "markdown",
   "id": "32ad041a",
   "metadata": {},
   "source": [
    "**Задание 4. (0.4 баллов)** Сравните три метода оптимизации по скорости сходимости, а также по степени разреженности решения (считайте, что число равно нулю, если оно по модулю не превосходит $10^{-2}$). Для этого нарисуйте два графика: первый - зависимость значения функции от номера итерации, а второй - количество ненулевых значений от итерации. Сделайте выводы. **Используйте не менее 30000 итераций**"
   ]
  },
  {
   "cell_type": "code",
   "execution_count": null,
   "id": "525d29c6",
   "metadata": {},
   "outputs": [],
   "source": [
    "### YOUR CODE HERE"
   ]
  },
  {
   "cell_type": "markdown",
   "id": "4296495b",
   "metadata": {},
   "source": [
    "**Выводы:**"
   ]
  },
  {
   "cell_type": "markdown",
   "id": "4795cb44",
   "metadata": {},
   "source": [
    "**Бонус 1. (1 балл)** Есть множество стратегий выбора шага для субградиентного метода, попробуйте следующие\n",
    "\n",
    "* Scaled gradient norm: $\\alpha_k=\\frac{\\alpha_0}{\\|g_k\\|}$\n",
    "* Scaled gradient norm: $\\alpha_k=\\frac{1}{\\sqrt{k}\\|g_k\\|}$\n",
    "\n",
    "Сравните такие стратегии, если какая-то из них оказалась лучше предыдущей, то сравните метод с ISTA/FISTA. Сделайте выводы"
   ]
  },
  {
   "cell_type": "code",
   "execution_count": null,
   "id": "c05910bc",
   "metadata": {},
   "outputs": [],
   "source": [
    "### YOUR CODE HERE"
   ]
  },
  {
   "cell_type": "markdown",
   "id": "136d1dae",
   "metadata": {},
   "source": [
    "**Выводы:**"
   ]
  },
  {
   "cell_type": "markdown",
   "id": "910743bf",
   "metadata": {},
   "source": [
    "**Бонус 2. (1.5 баллов)** Часто жизнь оказывается такова, что мы не можем подобрать оптимальный константный шаг, потому что это может быть дорого, а константу гладкости функции мы можем и не знать (да, оптимальный размер шага зависит от нее). В этом случае можно искать шаг $\\alpha_{k}$ при помощи backtracking search:\n",
    "\n",
    "$$f(x_{k+1})\\leq f(x_k) + \\langle \\nabla f_k, x_{k+1}-x_k \\rangle + \\frac{1}{2\\alpha_k}\\|x_k-x_{k+1}\\|^2$$\n",
    "\n",
    "А в качестве процедуры поиска использовать бинарный поиск\n",
    "\n",
    "*Замечание.* Внимательный студент может заметить, что в этом случае мы пытаемся подобрать $\\alpha_{k}$ так, чтобы оно было похоже на $\\frac{1}{L}$, который и является оптимальным размером шага.\n",
    "\n",
    "Попробуйте реализовать данную стратегию, сравните ее с уже реализованными методами. Дополнительно посчитайте, сколько раз вы вычисляли саму функцию. Сделайте выводы."
   ]
  },
  {
   "cell_type": "code",
   "execution_count": null,
   "id": "be0b842f",
   "metadata": {},
   "outputs": [],
   "source": [
    "### YOUR CODE HERE"
   ]
  },
  {
   "cell_type": "markdown",
   "id": "f5348b2e",
   "metadata": {},
   "source": [
    "**Выводы:**"
   ]
  },
  {
   "cell_type": "markdown",
   "id": "9add2c44",
   "metadata": {},
   "source": [
    "### Часть 2 (1.5 балла). ADMM for matrix completion"
   ]
  },
  {
   "cell_type": "markdown",
   "id": "d7512397",
   "metadata": {},
   "source": [
    "Рассмотрим задачу восстановления матрицы $Y$. Мы наблюдаем только небольшой набор элементов матрицы $Y$, множество индексов известных элементов обозначим через $E$. То есть мы знаем $Y_{ij}$ для всех $(i,j) \\in E$, и не знаем $Y_{ij}$ для всех $(i,j) \\notin E$.\n",
    "\n",
    "Понятно, что без наличия какой-либо дополнительной информации о матрице $Y$ эта постановка является тривиальной: любая матрица $X$, для которой выполнено $X_{i,j} = Y_{i,j}, \\quad (i,j) \\in E$ является разумным ответом. Таких матриц бесконечно много. Соответственно задача восстановления матриц обычно рассматривается как частный случай задачи приближения матрицы, а критерий качества (целевая функция) говорит не столько о близости $X$ к $Y$, сколько о полезных свойствах матрицы $X$ (этими свойствами матрица $Y$ может и не обладать).\n",
    "\n",
    "Одна из самых популярных постановок является задача о поиске наилучшего приближения заданной матрицы матрицей малого ранга:\n",
    "\n",
    "$$\n",
    "\\begin{align*}\n",
    "& \\min_{X} rank(X) \\\\\n",
    "& X_{i,j} = Y_{i,j}, \\quad (i,j) \\in E\\\\\n",
    "\\end{align*}\n",
    "$$\n",
    "\n",
    "В общем случае эта задача является NP-трудной. Для того чтобы обойти это препятствие ранг матрицы аппроксимируется той или иной выпуклой функцией от матрицы $X$. Стандартным выбором является переход к постановке задачи с использованием ядерной нормы\n",
    "\n",
    "$$\n",
    "\\begin{align*}\n",
    "& \\min_{X}\\|X \\|_* \\\\\n",
    "& X_{i,j} = Y_{i,j}, \\quad (i,j) \\in E\\\\\n",
    "\\end{align*}\n",
    "$$"
   ]
  },
  {
   "cell_type": "markdown",
   "id": "64ff93f7",
   "metadata": {},
   "source": [
    "**Задание 1. (0.5 балла)** Сведите полученную задачу к виду, пригодному для решения с помощью ADMM. Запишите итерации, получите аналитические выражения для каждого шага."
   ]
  },
  {
   "cell_type": "markdown",
   "id": "68af7c30",
   "metadata": {},
   "source": [
    "**Решение:**"
   ]
  },
  {
   "cell_type": "markdown",
   "id": "43cc3511",
   "metadata": {},
   "source": [
    "**Задание 2.(0.5 балла)** Реализуйте полученные формулы.\n",
    "\n",
    "*Замечание*. Вы все еще в праве менять интерфейсы функций так, как хотите"
   ]
  },
  {
   "cell_type": "code",
   "execution_count": null,
   "id": "1659eeb0",
   "metadata": {},
   "outputs": [],
   "source": [
    "def MC_update_X(Z, lambda_, r):\n",
    "    \"\"\"\n",
    "    Функция, обновляющая значение X для задачи Matrix Completion, используя переменные Z, lambda_ и r\n",
    "    \"\"\"\n",
    "    ### YOUR CODE HERE\n",
    "    pass\n",
    "\n",
    "\n",
    "def MC_update_Z(X, lambda_, r, Y, mask):\n",
    "    \"\"\"\n",
    "    Функция, обновляющая значение X для задачи Matrix Completion, используя переменные Z, lambda_, r, Y и маску E\n",
    "    \"\"\"\n",
    "    ### YOUR CODE HERE\n",
    "    pass\n",
    "    \n",
    "\n",
    "def MC_ADMM(Y, mask, tol, max_iters, r, Y_true):\n",
    "    \"\"\"\n",
    "    Функция, решающая задачу Matrix Completion для известных пикселей Y в точках mask\n",
    "    Считаем, что метод сходится, если ядерная норма поменялась за итерацию менее чем на tol\n",
    "    Максимальное количество итераций - max_iters\n",
    "    Параметр r для ADMM задается в интерфейсе\n",
    "    Для вычисления различных метрик вам может потребоваться знание исходного изображения\n",
    "    \"\"\"\n",
    "    ### YOUR CODE HERE\n",
    "    pass"
   ]
  },
  {
   "cell_type": "markdown",
   "id": "8a0e3bff",
   "metadata": {},
   "source": [
    "**Задание 3. (0 баллов)** Выберите любимую картинку, на которой вы будете тестировать алгоритм, покажите ее"
   ]
  },
  {
   "cell_type": "code",
   "execution_count": null,
   "id": "ef5bf4f4",
   "metadata": {},
   "outputs": [],
   "source": [
    "Y_true = cv2.imread('image.jpg')\n",
    "Y_true = cv2.cvtColor(Y_true, cv2.COLOR_BGR2RGB) / 255\n",
    "plt.grid(False)\n",
    "plt.axis(False)\n",
    "plt.imshow(Y_true)\n",
    "plt.show()"
   ]
  },
  {
   "cell_type": "markdown",
   "id": "eeabc8d7",
   "metadata": {},
   "source": [
    "**Задание 4.(0.3 балла)** Покажите работоспособность алгоритма:\n",
    "\n",
    "1) Нарисуйте график зависимости ошибки восстановления картинки от номера итерации\n",
    "\n",
    "2) Покажите визуально, что он действительно решает задачу восстановления изображения при отсутствии 50 процентов пикселей\n",
    "\n",
    "*Замечание*. Вы можете работать с изображением как с черно-белым, но интереснее будет запускать ADMM на каждом из каналов :)"
   ]
  },
  {
   "cell_type": "code",
   "execution_count": null,
   "id": "4135a4e9",
   "metadata": {},
   "outputs": [],
   "source": [
    "def generate_mask(shape, size, seed=42):\n",
    "    \"\"\"\n",
    "    Генерирует маску для изображения формы shape, оставляющую только size пикселей\n",
    "    \"\"\"\n",
    "    np.random.seed(seed)\n",
    "    mask = np.full(np.prod(shape), False)\n",
    "    mask[:size] = True\n",
    "    np.random.shuffle(mask)\n",
    "    mask = mask.astype(bool)\n",
    "    return mask.reshape(shape)"
   ]
  },
  {
   "cell_type": "code",
   "execution_count": null,
   "id": "06706fe5",
   "metadata": {},
   "outputs": [],
   "source": [
    "### YOUR CODE HERE"
   ]
  },
  {
   "cell_type": "markdown",
   "id": "8e1c1630",
   "metadata": {},
   "source": [
    "**Задание 5.(0.2 балла)** Посмотрите на то, как влияет количество удаленных пикселей на качество восстановления, как с точки зрения **нормы разности** истинного изображения и восстановленного, так и **с визуальной точки зрения**. Посмотрите удаление 30, 50 и 80 процентов пикселей (приветствуется смотреть и другие значения, например, 90). **ВНИМАНИЕ.** Перечитайте первое предложение внимательно, нужно провести анализ качества восстановления по двум параметра.\n",
    "\n",
    "*Замечание*. Вы можете работать с изображением как с черно-белым, но интереснее будет запускать ADMM на каждом из каналов :)"
   ]
  },
  {
   "cell_type": "code",
   "execution_count": null,
   "id": "87e374e8",
   "metadata": {},
   "outputs": [],
   "source": [
    "def plot_results(X, Y_true, mask, alphas, figsize=(10, 30)):\n",
    "    \"\"\"\n",
    "    Функция, отрисовывающая получившиеся результаты\n",
    "    :X - list восстановленных изображений (цветных)\n",
    "    :Y_true - настоящее изображение\n",
    "    :mask - list масок\n",
    "    :alphas - list состоящий из долей удаленных пикселей\n",
    "    Функция написана в предположении, что Вы работаете с цветными изображениями, если вы выбрали работать с чб, то\n",
    "    не забудьте поменять код\n",
    "    \"\"\"\n",
    "    fig, ax = plt.subplots(nrows=len(X), ncols=3, figsize=figsize)\n",
    "    for j in range(len(X)):\n",
    "        tmp = np.copy(Y_true)\n",
    "        current_mask = np.stack((~mask[j], ~mask[j], ~mask[j]), axis=2)\n",
    "        tmp[current_mask] = 0\n",
    "        content = [Y_true, tmp, X[j]]\n",
    "        titles = [\"Оригинальное изображение\",\n",
    "          f\"Изображение с удаленными\\n {int(alphas[j] * 100)}% пикселями\",\n",
    "          \"Восстановленное изображение\"]\n",
    "        for i in range(3):\n",
    "            ax[j][i].set_title(titles[i])\n",
    "            ax[j][i].imshow(content[i])\n",
    "            ax[j][i].grid(False)\n",
    "            ax[j][i].axis(False)\n",
    "    plt.show()"
   ]
  },
  {
   "cell_type": "code",
   "execution_count": null,
   "id": "2a11ff05",
   "metadata": {},
   "outputs": [],
   "source": [
    "### YOUR CODE HERE"
   ]
  },
  {
   "cell_type": "markdown",
   "id": "92d653d2",
   "metadata": {},
   "source": [
    "### Часть 3. (2.95 баллов) Редукция дисперсии"
   ]
  },
  {
   "cell_type": "markdown",
   "id": "5235b326",
   "metadata": {},
   "source": [
    "Часто при обучении нейронных сетей возникает вопрос выбора параметра `batch_size`, как вы знаете батчирование (разбирали на паре) помогает уменьшить дисперсию стохастического градиента и следовательно улучшает сходимость. К сожалению, на практике мы не можем взять `batch_size` достаточно большим из-за ограничений видеопамяти, а стохастический градиент все еще достаточно шумный (имеет высокую дисперсию).\n",
    "\n",
    "В этой части Вам предлагается реализовать метод **SVRG** и продемонстрировать его работу.\n",
    "\n",
    "*Замечание*: в базовой реализации мы будем предполагать, что раз в $N$ итераций мы сможем сделать `backward pass` с большим батчом. На практике такое предположение не выполняется. Исправление данной проблемы является чисто технической задачей, которую не обязательно решать в учебных целях.\n",
    "\n",
    "**Важно:** В этой части для написания выводов вам потребуются графики обучения. Без графиков и выводов пункт **не будет** засчитан. Все логи и необходимой код для отрисовки графиков написан за вас через `wandb`, который умеет автоматически формировать отчеты. Чтобы ваш ноутбук не весил десятки мегабайт прикладывайте отчет отдельно! Подробнее можно изучить либо в документации `wandb` либо [на видео](https://www.youtube.com/watch?v=2xeJIv_K_eI&ab_channel=Weights%26Biases)."
   ]
  },
  {
   "cell_type": "code",
   "execution_count": 13,
   "id": "a8c3aed6",
   "metadata": {},
   "outputs": [],
   "source": [
    "import numpy as np\n",
    "import matplotlib.pyplot as plt\n",
    "\n",
    "from tqdm import tqdm\n",
    "import os\n",
    "import random\n",
    "import copy\n",
    "\n",
    "import torch\n",
    "import torch.nn as nn\n",
    "import torch.optim as optim\n",
    "from torch.utils.data import Dataset, DataLoader\n",
    "\n",
    "from torchvision.datasets import MNIST\n",
    "import torchvision.transforms as transforms"
   ]
  },
  {
   "cell_type": "code",
   "execution_count": 14,
   "id": "48d7ed45",
   "metadata": {},
   "outputs": [],
   "source": [
    "def set_global_seed(seed: int) -> None:\n",
    "    \"\"\"Set global seed for reproducibility.\n",
    "    :param int seed: Seed to be set\n",
    "    \"\"\"\n",
    "    random.seed(seed)\n",
    "    np.random.seed(seed)\n",
    "    \n",
    "    torch.manual_seed(seed)\n",
    "    torch.cuda.manual_seed(seed)\n",
    "    torch.cuda.manual_seed_all(seed)\n",
    "\n",
    "set_global_seed(42)"
   ]
  },
  {
   "cell_type": "markdown",
   "id": "5b58af77",
   "metadata": {},
   "source": [
    "**Задание 1. (0.1 баллов)** Предварительные сведения\n",
    "\n",
    "\n",
    "При реализации **SVRG** вам потребуется сохранять веса и градиенты модели. В этом задании вам предлагается поменять местами (свапнуть) веса двух моделей с целью упражнения и упрощения понимания дальнейшего кода.\n",
    "\n",
    "*Подсказка 1:* Обратите внимание на функцию `copy.deepcopy`\n",
    "\n",
    "*Замечание:* Вы можете использовать функции `set_weights`, `set_grad`, но также можно реализовать их сами\n",
    "\n",
    "**Важно:** `copy.deepcopy` не копирует градиенты, которые хранятся в параметрах нейронной сети [источник 1](https://github.com/pytorch/pytorch/issues/3307) [источник 2](https://github.com/pytorch/pytorch/issues/95711). Поэтому в дальнейшем крайне рекомендуется использовать функцию `set_grad` и `set_weights`. В противном случае у вас, скорее всего, где-то будет ошибка."
   ]
  },
  {
   "cell_type": "code",
   "execution_count": 15,
   "id": "ad8654e6",
   "metadata": {},
   "outputs": [],
   "source": [
    "@torch.no_grad() \n",
    "def set_weights(parameters, parameters_new):\n",
    "    \"\"\"\n",
    "    Функция устанавливает веса parameters_new как веса для parameters\n",
    "    \"\"\"\n",
    "    \n",
    "    for p1, p2 in zip(parameters, parameters_new):\n",
    "        p1.data = p2.data.detach().clone()\n",
    "\n",
    "@torch.no_grad()\n",
    "def set_grad(parameters, parameters_new):\n",
    "    \"\"\"\n",
    "    Функция устанавливает градиенты parameters_new как градиенты для parameters\n",
    "    \"\"\"\n",
    "    for p1, p2 in zip(parameters, parameters_new):\n",
    "        if p2.grad is not None:\n",
    "            p1.grad = p2.grad.detach().clone()"
   ]
  },
  {
   "cell_type": "code",
   "execution_count": 40,
   "id": "eac89a26",
   "metadata": {},
   "outputs": [
    {
     "name": "stdout",
     "output_type": "stream",
     "text": [
      "Параметры net1\n",
      " [Parameter containing:\n",
      "tensor([[ 0.3823,  0.4150, -0.1171,  0.4593],\n",
      "        [-0.1096,  0.1009, -0.2434,  0.2936],\n",
      "        [ 0.4408, -0.3668,  0.4346,  0.0936],\n",
      "        [ 0.3694,  0.0677,  0.2411, -0.0706]], requires_grad=True), Parameter containing:\n",
      "tensor([ 0.3854,  0.0739, -0.2334,  0.1274], requires_grad=True)]\n",
      "Параметры net2\n",
      " [Parameter containing:\n",
      "tensor([[-0.2304, -0.0586, -0.2031,  0.3317],\n",
      "        [-0.3947, -0.2305, -0.1412, -0.3006],\n",
      "        [ 0.0472, -0.4938,  0.4516, -0.4247],\n",
      "        [ 0.3860,  0.0832, -0.1624,  0.3090]], requires_grad=True), Parameter containing:\n",
      "tensor([ 0.0779,  0.4040,  0.0547, -0.1577], requires_grad=True)]\n"
     ]
    }
   ],
   "source": [
    "# Нейросети, веса которых вам нужно поменять местами\n",
    "set_global_seed(42)\n",
    "\n",
    "net1 = nn.Sequential(nn.Linear(4, 4), nn.ReLU()) \n",
    "net2 = nn.Sequential(nn.Linear(4, 4), nn.ReLU())\n",
    "\n",
    "net1_p = list(net1.parameters())\n",
    "net2_p = list(net2.parameters())\n",
    "\n",
    "print(\"Параметры net1\\n\", net1_p)\n",
    "print(\"Параметры net2\\n\", net2_p)"
   ]
  },
  {
   "cell_type": "markdown",
   "id": "b3238cd4",
   "metadata": {},
   "source": [
    "Поменяйте местами веса моделей, код необходимо написать ниже"
   ]
  },
  {
   "cell_type": "code",
   "execution_count": 41,
   "id": "40a76f68",
   "metadata": {},
   "outputs": [],
   "source": [
    "# YOUR CODE HERE\n"
   ]
  },
  {
   "cell_type": "code",
   "execution_count": 42,
   "id": "e039a5e8",
   "metadata": {},
   "outputs": [
    {
     "name": "stdout",
     "output_type": "stream",
     "text": [
      "Параметры net1 после обмена\n",
      " [Parameter containing:\n",
      "tensor([[-0.2304, -0.0586, -0.2031,  0.3317],\n",
      "        [-0.3947, -0.2305, -0.1412, -0.3006],\n",
      "        [ 0.0472, -0.4938,  0.4516, -0.4247],\n",
      "        [ 0.3860,  0.0832, -0.1624,  0.3090]], requires_grad=True), Parameter containing:\n",
      "tensor([ 0.0779,  0.4040,  0.0547, -0.1577], requires_grad=True)]\n",
      "Параметры net2 после обмена\n",
      " [Parameter containing:\n",
      "tensor([[ 0.3823,  0.4150, -0.1171,  0.4593],\n",
      "        [-0.1096,  0.1009, -0.2434,  0.2936],\n",
      "        [ 0.4408, -0.3668,  0.4346,  0.0936],\n",
      "        [ 0.3694,  0.0677,  0.2411, -0.0706]], requires_grad=True), Parameter containing:\n",
      "tensor([ 0.3854,  0.0739, -0.2334,  0.1274], requires_grad=True)]\n"
     ]
    }
   ],
   "source": [
    "print(\"Параметры net1 после обмена\\n\", list(net1.parameters()))\n",
    "print(\"Параметры net2 после обмена\\n\", list(net2.parameters()))"
   ]
  },
  {
   "cell_type": "markdown",
   "id": "cdaa4395",
   "metadata": {},
   "source": [
    "Попробуем теперь свапнуть местами градиенты.\n",
    "\n",
    "*Подсказка 1:* Чтобы было куда сохранять градиенты надо будет сделать копию параметров"
   ]
  },
  {
   "cell_type": "code",
   "execution_count": 43,
   "id": "42bee520",
   "metadata": {},
   "outputs": [
    {
     "name": "stdout",
     "output_type": "stream",
     "text": [
      "Градиенты net1\n",
      " [tensor([[0., 0., 0., 0.],\n",
      "        [0., 0., 0., 0.],\n",
      "        [0., 0., 0., 0.],\n",
      "        [1., 1., 1., 1.]]), tensor([0., 0., 0., 1.])]\n",
      "Градиенты net2\n",
      " [tensor([[0., 1., 2., 3.],\n",
      "        [0., 1., 2., 3.],\n",
      "        [0., 1., 2., 3.],\n",
      "        [0., 1., 2., 3.]]), tensor([1., 1., 1., 1.])]\n"
     ]
    }
   ],
   "source": [
    "x = torch.ones((1, 4))\n",
    "net1(x).sum().backward()\n",
    "\n",
    "\n",
    "x = torch.arange(4).reshape(1, 4).float()\n",
    "net2(x).sum().backward()\n",
    "\n",
    "print(\"Градиенты net1\\n\", list(p.grad for p in net1.parameters()))\n",
    "print(\"Градиенты net2\\n\", list(p.grad for p in net2.parameters()))"
   ]
  },
  {
   "cell_type": "code",
   "execution_count": 44,
   "id": "28342ba2",
   "metadata": {},
   "outputs": [],
   "source": [
    "# YOUR CODE HERE\n"
   ]
  },
  {
   "cell_type": "code",
   "execution_count": 45,
   "id": "ef0d01ad",
   "metadata": {},
   "outputs": [
    {
     "name": "stdout",
     "output_type": "stream",
     "text": [
      "Градиенты net1 после обмена \n",
      " [tensor([[0., 1., 2., 3.],\n",
      "        [0., 1., 2., 3.],\n",
      "        [0., 1., 2., 3.],\n",
      "        [0., 1., 2., 3.]]), tensor([1., 1., 1., 1.])]\n",
      "Градиенты net2 после обмена \n",
      " [tensor([[0., 0., 0., 0.],\n",
      "        [0., 0., 0., 0.],\n",
      "        [0., 0., 0., 0.],\n",
      "        [1., 1., 1., 1.]]), tensor([0., 0., 0., 1.])]\n"
     ]
    }
   ],
   "source": [
    "print(\"Градиенты net1 после обмена \\n\", list(p.grad for p in net1.parameters()))\n",
    "print(\"Градиенты net2 после обмена \\n\", list(p.grad for p in net2.parameters()))"
   ]
  },
  {
   "cell_type": "markdown",
   "id": "1dd0ae06",
   "metadata": {},
   "source": [
    "**Задание 2. (0.2 баллов)** Реализуйте `SGD`\n",
    "\n",
    "В качестве базового класса будем использовать [torch.optim.Optimizer](https://pytorch.org/docs/stable/optim.html#base-class). Цель этого пункта познакомить вас с тем, как внутри оптимизатора лежат веса и градиенты модели. Вам же необходимо написать шаг стохастического градиентного спуска.\n",
    "\n",
    "**Подсказка 1:** Обратите внимание на функцию `torch.add` и ее аргументы."
   ]
  },
  {
   "cell_type": "code",
   "execution_count": 20,
   "id": "5424ab00",
   "metadata": {},
   "outputs": [],
   "source": [
    "class SGDBase(optim.Optimizer):\n",
    "    \n",
    "    def __init__(self, params, lr):\n",
    "        \n",
    "        # Определение Базового класса\n",
    "        defaults = dict(lr=lr)\n",
    "        super().__init__(params, defaults)\n",
    "\n",
    "    def step(self):\n",
    "        \n",
    "        # Итерация по всем группам параметров\n",
    "        for group in self.param_groups:\n",
    "            \n",
    "            # Итерация по всем параметрам\n",
    "            for p in group['params']:\n",
    "                \n",
    "                # Проверка на то, обучаем ли параметр\n",
    "                if p.grad is None:\n",
    "                    continue\n",
    "                    \n",
    "                # YOUR CODE HERE\n",
    "                "
   ]
  },
  {
   "cell_type": "markdown",
   "id": "8e306f8a",
   "metadata": {},
   "source": [
    "Проверим работоспособность на простой функции и сравним наш алгоритм, с реализацией `optim.SGD`"
   ]
  },
  {
   "cell_type": "code",
   "execution_count": 21,
   "id": "ae9ceb24",
   "metadata": {},
   "outputs": [],
   "source": [
    "def foo(x):\n",
    "    return (x - 1.0) ** 2\n",
    "\n",
    "def testing_optimizer(x_0, optimizer_class, num_steps=10):\n",
    "    x = nn.Parameter(data=x_0.clone()) # x - обучаемый параметр\n",
    "    optimizer = optimizer_class([x], lr=0.1)\n",
    "    history = [x.item()]\n",
    "    \n",
    "    for _ in range(num_steps):\n",
    "        optimizer.zero_grad()\n",
    "        \n",
    "        loss = foo(x)\n",
    "        loss.backward()\n",
    "        \n",
    "        optimizer.step()\n",
    "        history.append(x.item())\n",
    "    \n",
    "    \n",
    "    return np.array(history)"
   ]
  },
  {
   "cell_type": "code",
   "execution_count": 22,
   "id": "65976387",
   "metadata": {},
   "outputs": [
    {
     "data": {
      "text/plain": [
       "array([10.        ,  8.19999981,  6.75999975,  5.6079998 ,  4.68639994,\n",
       "        3.94912004,  3.35929608,  2.88743687,  2.50994945,  2.20795965,\n",
       "        1.96636772])"
      ]
     },
     "execution_count": 22,
     "metadata": {},
     "output_type": "execute_result"
    }
   ],
   "source": [
    "x_0 = torch.tensor(10.0)\n",
    "history_pytorch = testing_optimizer(x_0, optimizer_class=optim.SGD)\n",
    "history_pytorch"
   ]
  },
  {
   "cell_type": "code",
   "execution_count": 23,
   "id": "2f75b486",
   "metadata": {},
   "outputs": [
    {
     "data": {
      "text/plain": [
       "array([10.        ,  8.19999981,  6.75999975,  5.6079998 ,  4.68639994,\n",
       "        3.94912004,  3.35929608,  2.88743687,  2.50994945,  2.20795965,\n",
       "        1.96636772])"
      ]
     },
     "execution_count": 23,
     "metadata": {},
     "output_type": "execute_result"
    }
   ],
   "source": [
    "history_base = testing_optimizer(x_0, optimizer_class=SGDBase)\n",
    "history_base"
   ]
  },
  {
   "cell_type": "code",
   "execution_count": 24,
   "id": "9d208de7",
   "metadata": {},
   "outputs": [],
   "source": [
    "assert (history_base == history_pytorch).all()"
   ]
  },
  {
   "cell_type": "markdown",
   "id": "163fecc1",
   "metadata": {},
   "source": [
    "**Задание 3. (0.3 баллов)** Обертка над шагом обучения\n",
    "\n",
    "Для дальнейшего удобства использования, напишем небольшой класс-обертку. Такой ход позволит скрыть от цикла обучения все функции связанные с шагом обучения. Благодаря этому мы сможем добавить **SVRG** (который влияет только на итерацию обучения) переопределив класс-обертку. Тем самым наша реализация **SVRG** будет спрятана в обертки и не будет влиять на код цикла обучения.\n",
    "\n",
    "*Замечание:* Ниже в целях уменьшения кода, мы предполагаем что в оптимизаторе только одна группа параметров. То есть оптимизаторы вида:\n",
    "\n",
    "```python\n",
    "\n",
    "optim.Adam([\n",
    "        {\"params\": net1.parameters(), \"lr\": lr1},\n",
    "        {\"params\": net2.parameters(), \"lr\": lr2},\n",
    "    ...\n",
    "    ])\n",
    "\n",
    "```\n",
    "\n",
    "**НЕ** будут поддерживаться\n",
    "\n",
    "**Важно:** Внимательно изучите функции класса-обертки и базовый пример. В дальнейшем мы будем переопределять функцию `step_fn` для SVRG."
   ]
  },
  {
   "cell_type": "code",
   "execution_count": null,
   "id": "0e371fa2",
   "metadata": {},
   "outputs": [],
   "source": [
    "class WrapperBase:\n",
    "    \n",
    "    def __init__(self, optimizer, loss_fn):\n",
    "        \"\"\"\n",
    "        :optimizer - базовый оптимизатор\n",
    "        :loss_fn - функция по батчу вычисляющая loss и другие важные в ходе обучения значения.\n",
    "        Функция возвращает словарь, в котором обязательно присутсвует ключ 'loss'.\n",
    "        Значение функции потерь храняться по ключу 'loss'\n",
    "        \n",
    "        \"\"\"\n",
    "        \n",
    "        self.optimizer = optimizer\n",
    "        self.loss_fn = loss_fn\n",
    "    \n",
    "    def get_param_groups(self):\n",
    "        \"\"\"\n",
    "        return\n",
    "        Ссылку на параметры модели, т.е. изменение значения, меняет значение внутри модели\n",
    "        \n",
    "        Замечание: захардкожено [0]\n",
    "        \"\"\"\n",
    "        return self.optimizer.param_groups[0]['params']\n",
    "    \n",
    "    def get_group(self):\n",
    "        \"\"\"\n",
    "        return\n",
    "        Возвращает группу параметров оптимизатора\n",
    "        \n",
    "        Замечание: захардкожено [0]\n",
    "        \"\"\"\n",
    "        return self.optimizer.param_groups[0]\n",
    "    \n",
    "    def zero_grad(self):\n",
    "        \"\"\"\n",
    "        Обнуляет все градиенты для параметров оптимизатора\n",
    "        \"\"\"\n",
    "        \n",
    "        # YOUR CODE HERE\n",
    "        pass\n",
    "        \n",
    "    def step(self):\n",
    "        \"\"\"\n",
    "        Производит шаг оптимизатора\n",
    "        \"\"\"\n",
    "        \n",
    "        # YOUR CODE HERE\n",
    "        pass\n",
    "        \n",
    "    def step_fn(self, batch):\n",
    "        \"\"\" \n",
    "        Считает все статистики на батче, производит шаг оптимизации\n",
    "        return\n",
    "        Все необходимые статистики для логирования\n",
    "        \"\"\"\n",
    "        self.zero_grad()\n",
    "        \n",
    "        # YOUR CODE HERE\n",
    "        stat_dict = ...\n",
    "        \n",
    "        return stat_dict"
   ]
  },
  {
   "cell_type": "markdown",
   "id": "69a19007",
   "metadata": {},
   "source": [
    "Тогда мы можем переписать `testing_optimizer` следующим образом"
   ]
  },
  {
   "cell_type": "code",
   "execution_count": 30,
   "id": "dd8ed001",
   "metadata": {},
   "outputs": [],
   "source": [
    "def testing_optimizer_wrapper(x_0, optimizer_class, num_steps=10):\n",
    "    x = nn.Parameter(data=x_0.clone()) # x - обучаемый параметр\n",
    "    optimizer = optimizer_class([x], lr=0.1)\n",
    "    optimizer_wrapper = WrapperBase(optimizer, lambda x: {'loss': foo(x)})\n",
    "    \n",
    "    history = [x.item()]\n",
    "    \n",
    "    for _ in range(num_steps):\n",
    "        optimizer_wrapper.step_fn(x)\n",
    "        history.append(x.item())\n",
    "    \n",
    "    \n",
    "    return np.array(history)"
   ]
  },
  {
   "cell_type": "code",
   "execution_count": 31,
   "id": "0ea93921",
   "metadata": {},
   "outputs": [],
   "source": [
    "x_0 = torch.tensor(10.0, requires_grad=True)\n",
    "history = testing_optimizer(x_0, optimizer_class=optim.SGD)\n",
    "history_wrapper = testing_optimizer_wrapper(x_0, optimizer_class=optim.SGD)"
   ]
  },
  {
   "cell_type": "code",
   "execution_count": 32,
   "id": "b883fff3",
   "metadata": {},
   "outputs": [],
   "source": [
    "assert (history == history_wrapper).all()"
   ]
  },
  {
   "cell_type": "markdown",
   "id": "5d18c06e",
   "metadata": {},
   "source": [
    "**Задание 4. (0.75 баллов)** **SVRG**\n",
    "\n",
    "Реализуем метод `SVRG` как обёртку над базовым классом оптимизатора (оптимизатор используем условно как удобный интерфейс)\n",
    "\n",
    "Для начала напомним вид алгоритма из семинара:"
   ]
  },
  {
   "cell_type": "markdown",
   "id": "3b92d759",
   "metadata": {},
   "source": [
    "![svrg](data:image/png;base64,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)"
   ]
  },
  {
   "cell_type": "markdown",
   "id": "01d5fc4e",
   "metadata": {},
   "source": [
    "**ВАЖНО**\n",
    "\n",
    "Мы будем реализовывать чуть другую версию:\n",
    "    \n",
    "```python\n",
    "\n",
    "for i in range(1, N):\n",
    "    if i % S == 0:\n",
    "        w_large := w\n",
    "        Обновить G_s           # градиент по всей выборки (большому батчу) при весах w_large\n",
    "        \n",
    "    Засэмплировать батч        # batch\n",
    "    g_main                     # градиент по batch при весах w\n",
    "    g_bias                     # градиент по batch при весах w_large\n",
    "    g = g_main - g_bias + G_s\n",
    "    \n",
    "    w = w - lr * g\n",
    "```"
   ]
  },
  {
   "cell_type": "markdown",
   "id": "6dad1dec",
   "metadata": {},
   "source": [
    "*Замечание:* Вы можете менять интерфейсы классов так, как считаете нужным, предложенный вариант - один из возможных. Главное, чтобы все работало\n",
    "\n",
    "*Подсказка 1:* Для получения весов по которым ведется оптимизация (веса обучаемой нейронной сети) можно использовать `WrapperBase.get_param_groups()`."
   ]
  },
  {
   "cell_type": "code",
   "execution_count": null,
   "id": "b50b5441",
   "metadata": {},
   "outputs": [],
   "source": [
    "class SVRG(WrapperBase):\n",
    "    \n",
    "    def __init__(self, optimizer, loss_fn, data, S):\n",
    "        \"\"\"\n",
    "        optimizer: базовый оптимизатор\n",
    "        loss_fn: функция по батчу вычисляющая loss и другие важные в ходе обучения значения.\n",
    "        Функция возвращает словарь, в котором обязательно присутсвует ключ 'loss'.\n",
    "        Значение функции потерь храняться по ключу 'loss'\n",
    "        data: вся выборка или батч большого размера, по которому считается градиент раз в S итераций\n",
    "        S: параметр указывающий период пересчета градиента по всей выборки\n",
    "        \"\"\"\n",
    "        \n",
    "        super().__init__(optimizer=optimizer, loss_fn=loss_fn)\n",
    "        \n",
    "        self.data = data\n",
    "        self.S = S\n",
    "        self.counter = 0\n",
    "    \n",
    "    def step_fn(self, batch):\n",
    "        \n",
    "        # Обнуление градинетов модели, чтобы не накладывались при следующих вычислениях\n",
    "        # YOUR CODE HERE\n",
    "        \n",
    "        # Подсчет градиента на батче\n",
    "        # YOUR CODE HERE\n",
    "        \n",
    "        # Сохранение градиентов и весов посчитанных на батче\n",
    "        # YOUR CODE HERE\n",
    "        params_cur = ...\n",
    "\n",
    "        \n",
    "        # Обнуление градинетов модели, чтобы не накладывались при следующих вычислениях\n",
    "        # YOUR CODE HERE\n",
    "\n",
    "        if self.counter == 0:\n",
    "            # Подсчет градиента на большом множестве\n",
    "            # YOUR CODE HERE\n",
    "            \n",
    "            \n",
    "            # Сохранение градиентов и весов посчитанных на большом батче\n",
    "            # YOUR CODE HERE\n",
    "            self.params_large = ...\n",
    "            \n",
    "            # Обнуление градинетов модели, чтобы не накладывались при следующих вычислениях\n",
    "            # YOUR CODE HERE\n",
    "\n",
    "        \n",
    "        # Установка весов модели (для которой считали градиент на большом батче)\n",
    "        # YOUR CODE HERE\n",
    "        \n",
    "        # Подсчет градиента на батче для поправки\n",
    "        # YOUR CODE HERE\n",
    "        \n",
    "        \n",
    "        # Сохранение градиентов посчитанных на батче поправки\n",
    "        # YOUR CODE HERE\n",
    "        params_bias = ...\n",
    "        \n",
    "        # Востановлние весов и градиентов прошлой модели\n",
    "        # YOUR CODE HERE\n",
    "        \n",
    "        \n",
    "        for p_main, p_large, p_bias in zip(self.get_param_groups(), self.params_large, params_bias):\n",
    "    \n",
    "            if p_main.grad is None:\n",
    "                continue\n",
    "    \n",
    "            # Подсчет градиента с поправкаи\n",
    "            # YOUR CODE HERE\n",
    "            d_p = ...\n",
    "            \n",
    "            # Подменяем градиенты для оптимизатора\n",
    "            p_main.grad.data = d_p.detach().clone()\n",
    "        \n",
    "        # Шаг основного оптимизатора с новыми градиентами\n",
    "        self.step()\n",
    "        \n",
    "        # Обновление счётчика\n",
    "        self.counter += 1\n",
    "        \n",
    "        if self.counter == self.S:\n",
    "            self.counter = 0\n",
    "        \n",
    "        return loss_main\n",
    "        "
   ]
  },
  {
   "cell_type": "markdown",
   "id": "0a3ebbbd",
   "metadata": {},
   "source": [
    "**Задание 5: демонстрация использования оптимизатора (0 баллов)**: Эксперименты на  `MNIST`\n",
    "    \n",
    "Для корректных выводов по работе  **SVRG** нам необходимо:\n",
    "\n",
    "1) Задача на реальных данных\n",
    "\n",
    "2) Baseline решения этой задачи\n",
    "\n",
    "\n",
    "В качестве данных предлагается `MNIST`, в качестве Baseline следующий код.\n",
    "\n",
    "\n",
    "Напомним, что **SVRG** придуман для понижения дисперсии стохастического градиента. Поэтому будем иметь 2 стандартных решения: с высокой и низкой дисперсией стохастического градиента. \n",
    "\n",
    "\n",
    "Вам необходимо обучить 2 и больше модели, с которыми Вы дальше будете сравниваться. Предполагается, что у одной модели будет **высокая** дисперсия стохастического градиента, а у другой **низкая**. Другие модели тоже можно обучать для вывода (но эти 2 необходимо получить).\n",
    "\n",
    "\n",
    "**Важно**: Все эксперименты должны быть воспроизводимы, поэтому фиксируете сид\n",
    "\n",
    "**Важно**: Если будете менять обучение, постарайтесь, чтобы оно не заняло более 10 минут вычислений на гпу для 1 модели\n",
    "\n",
    "*Замечание:* Весь код ниже можно менять, главное выполнить задание 6 и показать 2 baseline, с которыми Вы дальше будете сравниваться\n",
    "\n",
    "**Подсказка 1:** Для всех результатов достаточно 1к итераций. Если метод который должен был сойтись не сошелся за 1к итераций, то скорее всего где-то ошибка.\n",
    "\n"
   ]
  },
  {
   "cell_type": "code",
   "execution_count": null,
   "id": "157ea1f2",
   "metadata": {},
   "outputs": [],
   "source": [
    "device = \"cpu\"\n",
    "\n",
    "if torch.cuda.is_available():\n",
    "    device = \"cuda:0\"\n",
    "    \n",
    "device"
   ]
  },
  {
   "cell_type": "markdown",
   "id": "d3a27732",
   "metadata": {},
   "source": [
    "`Подготовка данных`\n",
    "\n",
    "В качестве предобработки мы будем только нормализовывать данные."
   ]
  },
  {
   "cell_type": "code",
   "execution_count": null,
   "id": "8a26875f",
   "metadata": {},
   "outputs": [],
   "source": [
    "data_dir = \"./data\"\n",
    "os.makedirs(data_dir, exist_ok=True)\n",
    "\n",
    "transform = transforms.Compose([transforms.ToTensor(), transforms.Normalize(mean=(0.5), std=(0.5))])\n",
    "\n",
    "train_dataset = MNIST(root=data_dir, train=True, download=True, \n",
    "                      transform=transform)\n",
    "\n",
    "test_dataset = MNIST(root=data_dir, train=False, download=True,\n",
    "                     transform=transform)"
   ]
  },
  {
   "cell_type": "markdown",
   "id": "a2945f16",
   "metadata": {},
   "source": [
    "`Архитектура модели`\n",
    "\n",
    "Так как мы решаем задачу классификации `MNIST`, то нам хватит очень маленького MLP. Наша цель не выбить выше качество, а исследовать влияние стохастического градиента."
   ]
  },
  {
   "cell_type": "code",
   "execution_count": null,
   "id": "800c448b",
   "metadata": {},
   "outputs": [],
   "source": [
    "class MnistClassifier(nn.Module):\n",
    "    \n",
    "    def __init__(self, hidden_dim=10, image_dim=28):\n",
    "        \n",
    "        super().__init__()\n",
    "        \n",
    "        self.fc_input = nn.Sequential(nn.Flatten(), \n",
    "                                      nn.Linear(image_dim ** 2, hidden_dim), \n",
    "                                      nn.SiLU())\n",
    "        \n",
    "        self.fc_out = nn.Sequential(nn.Linear(hidden_dim, 10))\n",
    "        \n",
    "        \n",
    "    def forward(self, x):\n",
    "        \n",
    "        return self.fc_out(self.fc_input(x))"
   ]
  },
  {
   "cell_type": "markdown",
   "id": "317c267a",
   "metadata": {},
   "source": [
    "Определение `loss_fn` для класса обертки. Выше мы писали класс-обертке, в котором использовалась функция `loss_fn`. Так как мы решаем задачу классификации, то разумно считать значения функции потерь и точность на батче. Если вы считаете, что необходимо считать какие-либо другие метрики, то добавьте их вычисление внутри `loss_fn`.\n",
    "\n",
    "\n",
    "**Важно:** В DL очень часто практикуется подход, в котором все необходимые вычисления по батчу инкапсулируются внутри одной функции. Код обучения с единой функцией `loss_fn` является хорошим примером такого похода."
   ]
  },
  {
   "cell_type": "code",
   "execution_count": null,
   "id": "6bec128b",
   "metadata": {},
   "outputs": [],
   "source": [
    "def loss_fn_constructor(model, device):\n",
    "    criterion = nn.CrossEntropyLoss(reduction='mean')\n",
    "    \n",
    "    def loss_fn(batch):\n",
    "        X_batch, y_true = batch\n",
    "        \n",
    "        X_batch = X_batch.to(device)\n",
    "        y_true = y_true.to(device)\n",
    "            \n",
    "        out = model(X_batch)\n",
    "        loss = criterion(out, y_true)\n",
    "        \n",
    "        y_pred = torch.argmax(out, 1)\n",
    "        accuracy = torch.sum(y_pred == y_true) / y_pred.shape[0]\n",
    "        \n",
    "        return {'loss': loss, 'accuracy': accuracy}\n",
    "    \n",
    "    return loss_fn"
   ]
  },
  {
   "cell_type": "markdown",
   "id": "4502bde2",
   "metadata": {},
   "source": [
    "**Логирование**\n",
    "\n",
    "Для проведения экспериментов вам потребуется отслеживать следующие показатели:\n",
    "\n",
    "- Дисперсия стохастического градиента\n",
    "\n",
    "- Значения loss и accuracy на train и test\n",
    "\n",
    "- Дисперсия весов модели\n",
    "\n",
    "Для логирования Вы можете использовать любые библиотеки либо собирать данные во время обучения и выводить их после. Здесь предложена реализация через wandb, но вы можете ее не использовать.\n",
    "\n",
    "**ВАЖНО** \n",
    "\n",
    "1. Без графиков или иных подтверждающих результатов работа не будет засчитана\n",
    "\n",
    "2. Все графики должны быть в ноутбуке или отдельном отчете, то есть нельзя прикреплять ссылки на запуск\n",
    "\n",
    "3. Все запуски должны быть воспроизводимы при последовательном выполнении ячеек"
   ]
  },
  {
   "cell_type": "code",
   "execution_count": null,
   "id": "84b14645",
   "metadata": {},
   "outputs": [],
   "source": [
    "import wandb"
   ]
  },
  {
   "cell_type": "markdown",
   "id": "8aa1f5f7",
   "metadata": {},
   "source": [
    "Ниже предложен код логирования дисперсии градиентов и обучаемыех весов модели. "
   ]
  },
  {
   "cell_type": "code",
   "execution_count": null,
   "id": "31c658b4",
   "metadata": {},
   "outputs": [],
   "source": [
    "@torch.no_grad()\n",
    "def log_variance(model, global_step):\n",
    "    for tag, value in model.named_parameters():\n",
    "        g = value.grad\n",
    "        if g is None:\n",
    "            continue\n",
    "        \n",
    "        wandb.log({f\"grad_var/{tag}\": torch.var(g.cpu())}, global_step)\n",
    "        wandb.log({f\"params_var/{tag}\": torch.var(value.data.cpu())}, global_step)"
   ]
  },
  {
   "cell_type": "markdown",
   "id": "4dc0b9ed",
   "metadata": {},
   "source": [
    "**Обучение**\n",
    "\n",
    "Так как **SVRG** обновляет большой градиент каждые $S$ итераций, то для чистоты эксперимента будем обучать каждую модель фиксированное число итераций."
   ]
  },
  {
   "cell_type": "code",
   "execution_count": null,
   "id": "6a61aec5",
   "metadata": {},
   "outputs": [],
   "source": [
    "@torch.no_grad()\n",
    "def evaluate(net, valid_dataloader, criterion_fn, device):\n",
    "    net.eval()\n",
    "    loss, accuracy = 0, 0\n",
    "    count = 0\n",
    "    for X_batch, y_true in valid_dataloader:\n",
    "        X_batch = X_batch.to(device)\n",
    "        y_true = y_true.to(device)\n",
    "\n",
    "        out = net(X_batch)\n",
    "        y_pred = torch.argmax(out, 1)\n",
    "        \n",
    "        bs = out.shape[0]\n",
    "        loss += criterion_fn(out, y_true).item() * bs\n",
    "        accuracy += torch.sum(y_pred == y_true).item()\n",
    "        count += bs\n",
    "        \n",
    "    return loss / count, accuracy / count\n",
    "\n",
    "    \n",
    "\n",
    "def train(iters_num, net, optimizer_wrapper, criterion_fn, train_dataloader, valid_dataloader, device, name):\n",
    "    \n",
    "    wandb.init(project=\"mmro_mmp\", name=name)\n",
    "    global_step = 1\n",
    "    net = net.to(device)\n",
    "    \n",
    "    iters_per_epoch = len(train_dataloader)\n",
    "    epoch_num = iters_num // iters_per_epoch + (iters_num % iters_per_epoch != 1)\n",
    "    \n",
    "    for _ in tqdm(range(epoch_num)):        \n",
    "        for batch in train_dataloader:\n",
    "            \n",
    "            d = optimizer_wrapper.step_fn(batch)\n",
    "            loss = d['loss']\n",
    "            accuracy = d['accuracy']\n",
    "            \n",
    "            log_variance(net, global_step)\n",
    "            wandb.log({\"train/loss\": loss.item(), \"train/accuracy\": accuracy.item()}, step=global_step)\n",
    "            \n",
    "            if global_step % 50 == 0:\n",
    "        \n",
    "                loss, accuracy = evaluate(net, valid_dataloader, criterion_fn, device)\n",
    "                net.train()\n",
    "                \n",
    "                wandb.log({\"eval/loss\": loss, \"eval/accuracy\": accuracy}, step=global_step)\n",
    "            \n",
    "            \n",
    "            if global_step == iters_num:\n",
    "                break\n",
    "                \n",
    "            global_step += 1\n",
    "        \n",
    "    wandb.finish()"
   ]
  },
  {
   "cell_type": "markdown",
   "id": "2a1f70f6",
   "metadata": {},
   "source": [
    "Продемонстрируем как получить модель с низкой дисперсией стохастического градиента"
   ]
  },
  {
   "cell_type": "markdown",
   "id": "7bd09363",
   "metadata": {},
   "source": [
    "*Замечание*: Параметры архитектуры и количество итераций желательно не менять (все необходимые результаты можно получить и не изменяя их) "
   ]
  },
  {
   "cell_type": "code",
   "execution_count": null,
   "id": "7ec99298",
   "metadata": {},
   "outputs": [],
   "source": [
    "set_global_seed(42)\n",
    "\n",
    "net = MnistClassifier(hidden_dim=10)\n",
    "loss_fn = loss_fn_constructor(model=net, device=device)\n",
    "\n",
    "optimizer = optim.SGD(net.parameters(), lr=1e-2)\n",
    "optimizer_wrapper = WrapperBase(optimizer=optimizer, loss_fn=loss_fn)\n",
    "\n",
    "train_dataloader = DataLoader(train_dataset, batch_size=1024, shuffle=True, drop_last=True)\n",
    "val_dataloader = DataLoader(test_dataset, batch_size=1024, shuffle=False)\n",
    "\n",
    "criterion_fn = nn.CrossEntropyLoss(reduction='mean')"
   ]
  },
  {
   "cell_type": "code",
   "execution_count": null,
   "id": "35645312",
   "metadata": {},
   "outputs": [],
   "source": [
    "train(\n",
    "    iters_num=1_000, \n",
    "    net=net,\n",
    "    optimizer_wrapper=optimizer_wrapper,\n",
    "    criterion_fn=criterion_fn,\n",
    "    train_dataloader=train_dataloader,\n",
    "    valid_dataloader=val_dataloader,\n",
    "    device=device,\n",
    "    name=\"SGD_bs_large\")"
   ]
  },
  {
   "cell_type": "markdown",
   "id": "6817659b",
   "metadata": {},
   "source": [
    "При правильной реализации accuracy на тесте будет  `∼0.88`"
   ]
  },
  {
   "cell_type": "markdown",
   "id": "950efaf2",
   "metadata": {},
   "source": [
    "**Задание 6. (0.5 баллов)**: получите модель с высокой дисперсией стохастического градиента\n",
    "\n"
   ]
  },
  {
   "cell_type": "code",
   "execution_count": null,
   "id": "6cd9f76c",
   "metadata": {},
   "outputs": [],
   "source": [
    "# YOUR CODE HERE"
   ]
  },
  {
   "cell_type": "markdown",
   "id": "34101798",
   "metadata": {},
   "source": [
    "При правильной реализации accuracy на тесте будет  ` > 0.74`"
   ]
  },
  {
   "cell_type": "markdown",
   "id": "81e8b021",
   "metadata": {},
   "source": [
    "**Сделайте выводы**: как влияет дисперсия градиента на обучение (loss, accuracy)\n",
    "\n",
    "Обязательно продемонстрируйте графики, подтверждающие Ваши выводы.\n"
   ]
  },
  {
   "cell_type": "code",
   "execution_count": 34,
   "id": "89475826",
   "metadata": {},
   "outputs": [],
   "source": [
    "# Ваши выводы здесь"
   ]
  },
  {
   "cell_type": "markdown",
   "id": "2c24f4d2",
   "metadata": {},
   "source": [
    "**Задание 7. (0.1 баллов)**: проверка **SVRG**"
   ]
  },
  {
   "cell_type": "markdown",
   "id": "0ab34771",
   "metadata": {},
   "source": [
    "Выберите подмножество обучающего датасета, по которому будете считать \"честный\" градиент. Это может быть либо сам датасет, либо батч размера сильно больше, чем батч обучающей выборки.\n",
    "\n",
    "**Важно: ** Убедитесь, что выбранный вами батч не смещен, т.е. присутствуют все классы в равных пропорциях"
   ]
  },
  {
   "cell_type": "code",
   "execution_count": null,
   "id": "a0174681",
   "metadata": {},
   "outputs": [],
   "source": [
    "# YOUR CODE HERE\n",
    "\n",
    "data = ..."
   ]
  },
  {
   "cell_type": "markdown",
   "id": "088a0644",
   "metadata": {},
   "source": [
    "Для проверки корректности и адекватности реализации метода следует провести отладочные эксперименты. Основная задача отладочных экспериментов в максимально простых условиях проверить метод. В чем заключается проверка метода? Вы выдвигаете какую-то гипотезу (ожидаемое поведение) и проверяете как работает ваша реализация. \n",
    "\n",
    "Для проверки корректности вашей реализации **SVRG**, для этого предлагается провести следующий эксперимент:\n",
    "\n",
    "Если выбрать `S = 1`, то ожидается что обучение станет похожим на градиентный спуск, т.е. траектории обучения похожи на запуск с большим `batch_size`.\n",
    "\n",
    "Обратите, что функция `step_fn` возвращает значения функций на батче обучающей выборки, т.е. значения достаточно шумные"
   ]
  },
  {
   "cell_type": "code",
   "execution_count": null,
   "id": "19241dcb",
   "metadata": {},
   "outputs": [],
   "source": [
    "set_global_seed(42)\n",
    "\n",
    "net = MnistClassifier(10)\n",
    "loss_fn = loss_fn_constructor(model=net, device=device)\n",
    "\n",
    "optimizer = optim.SGD(net.parameters(), lr=1e-2)\n",
    "optimizer_wrapper = SVRG(optimizer=optimizer, loss_fn=loss_fn, data=data, S=1)\n",
    "\n",
    "train_dataloader = DataLoader(train_dataset, batch_size=2, shuffle=True, drop_last=True)\n",
    "val_dataloader = DataLoader(test_dataset, batch_size=1024, shuffle=False)\n",
    "\n",
    "criterion_fn = nn.CrossEntropyLoss(reduction='mean')"
   ]
  },
  {
   "cell_type": "code",
   "execution_count": null,
   "id": "e8ffb580",
   "metadata": {},
   "outputs": [],
   "source": [
    "# YOUR CODE HERE"
   ]
  },
  {
   "cell_type": "markdown",
   "id": "f89d76ad",
   "metadata": {},
   "source": [
    "При правильной реализации accuracy на тесте будет  `∼0.88`"
   ]
  },
  {
   "cell_type": "markdown",
   "id": "f0319749",
   "metadata": {},
   "source": [
    "Насколько согласована реально полученная картина с ожиданиями? Сделайте выводы.\n",
    "    "
   ]
  },
  {
   "cell_type": "code",
   "execution_count": 35,
   "id": "59114dd9",
   "metadata": {},
   "outputs": [],
   "source": [
    "# YOUR CODE HERE"
   ]
  },
  {
   "cell_type": "markdown",
   "id": "a5bf1f01",
   "metadata": {},
   "source": [
    "**Задание 8. (1 балл)**: Эксперименты (если у вас 1 запуск занимает 1 минуту, то секция должна выполняться не более 16 минут)"
   ]
  },
  {
   "cell_type": "markdown",
   "id": "bad1a39e",
   "metadata": {},
   "source": [
    "Запуск будет считаться **корректным** если соблюдаются следующие правила:\n",
    "\n",
    "1) Выберите подмножество обучающей выборки `data`, по которому будете считать честный градиент.\n",
    "\n",
    "2) Так как цель метода, без особой вычислительной нагрузки уменьшить дисперсию, то размер `data` и значение `S` нужно выбрать разумными. Разумным считаются такие параметры, при которых количество подсчетов градиентов от элемента выборки во время обучения увеличиться не более чем в 6 раз.\n",
    "\n",
    "\n",
    "Пример **НЕ** правильного подбора:\n",
    "\n",
    "`batch_size = 2`\n",
    "\n",
    "`len(data) = 50000`\n",
    "\n",
    "`S = 1`\n",
    "\n",
    "\n",
    "Каждая итерация обучения в среднем будет делать `50002` подсчетов градиента, вместо 2\n",
    "\n",
    "Пример разумного подбора:\n",
    "\n",
    "`batch_size = 2`\n",
    "\n",
    "`len(data) = 256`\n",
    "\n",
    "`S = 100`\n",
    "\n",
    "Каждая итерация обучения в среднем будет делать `4.56` подсчетов градиента, вместо 2"
   ]
  },
  {
   "cell_type": "markdown",
   "id": "81608006",
   "metadata": {},
   "source": [
    "**Важно**: правила можно нарушать для проверки и демонстрации граничных случаев, но базовые эксперименты все равно должны быть продемонстрированы"
   ]
  },
  {
   "cell_type": "markdown",
   "id": "fc9df059",
   "metadata": {},
   "source": [
    "Цель эксперимента:\n",
    "\n",
    "Продемонстрировать как меняется обучение от размера `data` и параметра `S`.\n",
    "\n",
    "Необходимы минимум перебора параметров:\n",
    "\n",
    "$S = 100, 300, 500$\n",
    "\n",
    "$len(data) = 256$ и любой на ваше усмотрение, который согласуется с правилами выше.\n",
    "\n",
    "\n",
    "Минимальные показатели, по которым должны быть сделаны выводы:\n",
    "\n",
    "1) Лучшие показатели accuracy, loss на валидации\n",
    "\n",
    "2) Поведение графиков на валидации и обучении\n",
    "\n",
    "3) Дисперсия стохастического градиента\n",
    "\n",
    "4) Время обучение модели\n",
    "\n",
    "5) Максимальная занятая память (wandb логгирует)\n",
    "\n",
    "6) Среднее число подсчетов градиентов на одной итерации обучения (за 1 подсчет считается вызов от 1 элемента выборки) (Формула выше в примерах описана)\n",
    "\n",
    "\n",
    "Без учета поведения дисперсии стохастического градиента задание не будет засчитано!\n",
    "\n",
    "\n",
    "**Важно:** не обязательно делать комбинаторный перебор, обычно достаточно более разумного подбора параметров\n",
    "\n",
    "\n",
    "**Важно:** Вы можете менять все функции если вам необходимо, главное чтобы работало\n",
    "\n",
    "**ОБЯЗАТЕЛЬНО НУЖНО ПРИКРЕПИТЬ ГРАФИКИ В НОУТБУК ИЛИ В ОТЧЕТ, НЕ ССЫЛКУ**\n"
   ]
  },
  {
   "cell_type": "markdown",
   "id": "c3505835",
   "metadata": {},
   "source": [
    "**ОЧЕНЬ ОЧЕНЬ ВАЖНО**: Все результаты должны сравниваться с обученными ранее моделями baseline. И делать выводы учитывая их. Нельзя исследовать метод в вакууме без хороших примеров для сравнения!"
   ]
  },
  {
   "cell_type": "code",
   "execution_count": null,
   "id": "ff2e018b",
   "metadata": {},
   "outputs": [],
   "source": [
    "# YOUR CODE HERE"
   ]
  },
  {
   "cell_type": "markdown",
   "id": "9d88eb37",
   "metadata": {},
   "source": [
    "**Бонус 1 (1 баллов)**: Уменьшить максимальное потребление видео памяти (обратить на внимание подсчета большого батча). Продемонстрировать как поменялось время обучение и потребление памяти."
   ]
  },
  {
   "cell_type": "markdown",
   "id": "581f897d",
   "metadata": {},
   "source": [
    "**Бонус 2 (1.25 баллов)**: Проверить для других оптимизаторов влияние SVRG. При нашей реализации достаточно заменить базовый оптимизатор, на любой другой при создании обёртки. Сравнить сходимость метода и основные показатели"
   ]
  },
  {
   "cell_type": "markdown",
   "id": "d37029f1",
   "metadata": {},
   "source": [
    "**Бонус 3 (1.25 баллов)**: Реализовать L-SVRG и сравнить результаты с SVRG и простым стохастическим градиентным спуском. Сравнить сходимость метода и основные показатели"
   ]
  },
  {
   "cell_type": "markdown",
   "id": "2197a8bb",
   "metadata": {},
   "source": [
    "**Бонус 4 (1.5 баллов)**: Реализовать метод [SAGA](https://www.di.ens.fr/~fbach/Defazio_NIPS2014.pdf) или любой другой метод понижения дисперсии (кроме батчирования). Описать идею метода. Сравнить сходимость метода и основные показатели"
   ]
  },
  {
   "cell_type": "markdown",
   "id": "1e54fc67",
   "metadata": {},
   "source": [
    "### Часть 4 (2.55 баллов). Методы Ньютона и LBFGS для пуассоновской регрессии."
   ]
  },
  {
   "cell_type": "markdown",
   "id": "1554145b",
   "metadata": {},
   "source": [
    "В этой части задания вам предстоит обучить модель пуассоновской регрессии. Для этой задачи вы реализуете метод Ньютона и оракулы для Newton-CG и LBFGS."
   ]
  },
  {
   "cell_type": "markdown",
   "id": "05d22c96",
   "metadata": {},
   "source": [
    "###### Постановка задачи"
   ]
  },
  {
   "cell_type": "markdown",
   "id": "5b63f6e6",
   "metadata": {},
   "source": [
    "Рассмотрим задачу количественной регрессии (count regression). Пусть дана выборка $\\{x_i,y_i\\}_{i=1}^\\ell$, где $x_i\\in\\mathbb{R}^d$, $y_i\\in\\mathbb{N}\\cup\\{0\\}$.\n",
    "\n",
    "Будем считать, что\n",
    "$$\n",
    "y\\sim p(y\\,|\\,\\lambda)={e^{-\\lambda}\\over y!}\\lambda^{y},\n",
    "$$\n",
    "где $\\lambda=\\exp(w^Tx)$.\n",
    "\n",
    "Как вы могли догадаться, мы имеем дело с обобщённой линейной моделью. Обучение производится методом максимизации правдоподобия:\n",
    "$$\n",
    "p(X\\,|\\,w)=\\prod_{i=1}^\\ell p(y_i\\,|\\,x_i,w)\\to\\max_w\\iff \\mathcal{L}(x,y,w)=-\\log p(y\\,|\\,\\exp(w^Tx)),\\ Q=\\sum_{i=1}^\\ell\\mathcal{L}(x_i,y_i,w)\\to\\min_w.\n",
    "$$\n",
    "\n",
    "Алгоритм предсказания пуассоновской регрессии:\n",
    "$$\n",
    "a(x)=\\lfloor\\exp(w^Tx)\\rfloor.\n",
    "$$"
   ]
  },
  {
   "cell_type": "markdown",
   "id": "0688d062",
   "metadata": {},
   "source": [
    "**Задание 1. (0.5 баллов)**. Выведите формулы градиента $\\nabla_wQ$ и гессиана $\\nabla^2_wQ$."
   ]
  },
  {
   "cell_type": "markdown",
   "id": "f2054503",
   "metadata": {},
   "source": [
    "**Решение:**"
   ]
  },
  {
   "cell_type": "markdown",
   "id": "9215eebc",
   "metadata": {},
   "source": [
    "**Задание 2 (0.8 баллов)**. Реализуйте полученные формулы в виде функции оракула."
   ]
  },
  {
   "cell_type": "code",
   "execution_count": null,
   "id": "1720ba55",
   "metadata": {},
   "outputs": [],
   "source": [
    "import numpy as np\n",
    "\n",
    "class Oracle:\n",
    "    def __init__(self, X, y):\n",
    "        self.X = X\n",
    "        self.y = y\n",
    "    \n",
    "    def fun(self, weights):\n",
    "        \"\"\"Compute objective, gradient, hessian\"\"\"\n",
    "        # your code is here\n",
    "    \n",
    "    def jac(self, weights):\n",
    "        \"\"\"Compute gradient. Use it for LBFGS, Newton-CG, Newton.\"\"\"\n",
    "        # your code is here\n",
    "    \n",
    "    def hess(self, weights):\n",
    "        \"\"\"Compute hessian. Use it for Newton.\"\"\"\n",
    "        # your code is here\n",
    "    \n",
    "    def hessp(self, weights, vector):\n",
    "        \"\"\"Compute `hessian-times-vector` product. Use it for Newton-CG\"\"\"\n",
    "        # your code is here"
   ]
  },
  {
   "cell_type": "code",
   "execution_count": null,
   "id": "2df25007",
   "metadata": {},
   "outputs": [],
   "source": [
    "# Вспомогатейльный класс, который будет логгировать процесс обучения\n",
    "from time import perf_counter\n",
    "\n",
    "\n",
    "class Logger:\n",
    "    def __init__(self):\n",
    "        self.w = []\n",
    "        self.time = []\n",
    "    \n",
    "    def __call__(self, weights):\n",
    "        self.w.append(weights)\n",
    "        \n",
    "        if hasattr(self, 'prev'):\n",
    "            self.time.append(perf_counter() - self.prev)\n",
    "\n",
    "        self.prev = perf_counter()"
   ]
  },
  {
   "cell_type": "markdown",
   "id": "0b3b4e46",
   "metadata": {},
   "source": [
    "**Задание 3. (0 баллов)**. Протестируем алгоритм на синтетических данных"
   ]
  },
  {
   "cell_type": "code",
   "execution_count": null,
   "id": "eaafa679",
   "metadata": {},
   "outputs": [],
   "source": [
    "def cartesian_product(*arrays):\n",
    "    \"\"\"https://stackoverflow.com/a/11146645\"\"\"\n",
    "    la = len(arrays)\n",
    "    dtype = np.result_type(*arrays)\n",
    "    arr = np.empty([len(a) for a in arrays] + [la], dtype=dtype)\n",
    "    for i, a in enumerate(np.ix_(*arrays)):\n",
    "        arr[...,i] = a\n",
    "    return arr.reshape(-1, la)"
   ]
  },
  {
   "cell_type": "markdown",
   "id": "b06914e5",
   "metadata": {},
   "source": [
    "Датасет будет состоять из точек, взятых по сетке на прямоугольнике [0,3] x [0,3] "
   ]
  },
  {
   "cell_type": "code",
   "execution_count": null,
   "id": "7dc78641",
   "metadata": {},
   "outputs": [],
   "source": [
    "n_points_root = 50\n",
    "\n",
    "x = np.linspace(0, 3, n_points_root)\n",
    "y = np.linspace(0, 3, n_points_root)\n",
    "\n",
    "features = cartesian_product(x, y)\n",
    "features.shape"
   ]
  },
  {
   "cell_type": "markdown",
   "id": "b8ca7eee",
   "metadata": {},
   "source": [
    "Зафиксируем золотое значение параметров:"
   ]
  },
  {
   "cell_type": "code",
   "execution_count": null,
   "id": "751089de",
   "metadata": {},
   "outputs": [],
   "source": [
    "w = np.array([0.7, -0.25])"
   ]
  },
  {
   "cell_type": "markdown",
   "id": "e92fe148",
   "metadata": {},
   "source": [
    "Метки сгенерируем из пуассоновского распределения:"
   ]
  },
  {
   "cell_type": "code",
   "execution_count": null,
   "id": "f2c6cd43",
   "metadata": {},
   "outputs": [],
   "source": [
    "targets = np.random.poisson(np.exp(features @ w))\n",
    "targets.shape"
   ]
  },
  {
   "cell_type": "markdown",
   "id": "028b8a5d",
   "metadata": {},
   "source": [
    "Визуализируем выборку:"
   ]
  },
  {
   "cell_type": "code",
   "execution_count": null,
   "id": "1078cc43",
   "metadata": {},
   "outputs": [],
   "source": [
    "import matplotlib.pyplot as plt\n",
    "\n",
    "def visualise(z):\n",
    "    ax = plt.contourf(x, y, z.reshape(n_points_root, n_points_root).T)\n",
    "    cbar = plt.colorbar(ax)\n",
    "    cbar.ax.set_ylabel('target')\n",
    "    plt.xlabel('feature 0')\n",
    "    plt.ylabel('feature 1')\n",
    "    plt.show()\n",
    "\n",
    "visualise(targets)"
   ]
  },
  {
   "cell_type": "markdown",
   "id": "60150cd2",
   "metadata": {},
   "source": [
    "Следующая ячейка должна выполняться без ошибок **(иначе -0.4 балла)**"
   ]
  },
  {
   "cell_type": "code",
   "execution_count": null,
   "id": "1e79676d",
   "metadata": {},
   "outputs": [],
   "source": [
    "from scipy.optimize import minimize\n",
    "\n",
    "oracle = Oracle(features, targets)\n",
    "cb = Logger()\n",
    "weights = np.random.normal(size=2)\n",
    "res = minimize(\n",
    "    oracle.fun, weights,\n",
    "    method=\"L-BFGS-B\",\n",
    "    jac=oracle.jac,\n",
    "    callback=cb\n",
    ")\n",
    "res"
   ]
  },
  {
   "cell_type": "markdown",
   "id": "c8d5db1e",
   "metadata": {},
   "source": [
    "Результат `res` должен содержать информацию об успешной оптимизации, а полученные веса должны быть похожи на те, что заданы выше:"
   ]
  },
  {
   "cell_type": "code",
   "execution_count": null,
   "id": "497f5bfa",
   "metadata": {},
   "outputs": [],
   "source": [
    "res['x']"
   ]
  },
  {
   "cell_type": "markdown",
   "id": "7146a0f2",
   "metadata": {},
   "source": [
    "Визуализируйте предсказания:"
   ]
  },
  {
   "cell_type": "code",
   "execution_count": null,
   "id": "c88041a8",
   "metadata": {},
   "outputs": [],
   "source": [
    "pred = np.floor(np.exp(features @ res['x']))\n",
    "\n",
    "visualise(pred)"
   ]
  },
  {
   "cell_type": "markdown",
   "id": "4a11b6ce",
   "metadata": {},
   "source": [
    "Следующая ячейка должна выполняться без ошибок и сообщать об успешной оптимизации **(иначе -0.4 балла)**:"
   ]
  },
  {
   "cell_type": "code",
   "execution_count": null,
   "id": "5d3db5da",
   "metadata": {},
   "outputs": [],
   "source": [
    "oracle = Oracle(features, targets)\n",
    "cb = Logger()\n",
    "weights = np.random.normal(size=2)\n",
    "res = minimize(\n",
    "    oracle.fun, weights,\n",
    "    method=\"Newton-CG\",\n",
    "    jac=oracle.jac,\n",
    "    hessp=oracle.hessp,\n",
    "    callback=cb,\n",
    ")\n",
    "res"
   ]
  },
  {
   "cell_type": "code",
   "execution_count": null,
   "id": "c82b4c1c",
   "metadata": {},
   "outputs": [],
   "source": [
    "res['x']"
   ]
  },
  {
   "cell_type": "markdown",
   "id": "5bc81f10",
   "metadata": {},
   "source": [
    "**Задание 4 (0.25 баллов)**. Реализуйте бектрекинг по правилу Армихо."
   ]
  },
  {
   "cell_type": "code",
   "execution_count": null,
   "id": "d175efc6",
   "metadata": {},
   "outputs": [],
   "source": [
    "def line_search(f, grad, x, d, c=1e-4, rho=0.9, tol=1e-3, alpha0=1):\n",
    "    \"\"\"\n",
    "    Line search for learning rate with Armijo condition.\n",
    "\n",
    "    Params\n",
    "    ------\n",
    "    f: objective function\n",
    "    grad: vector\n",
    "    x: current solution of optimization problem\n",
    "    d: direction along which to search\n",
    "    alpha0: initialization for alpha\n",
    "    \n",
    "    Return\n",
    "    ------\n",
    "    alpha: lr for newton step\n",
    "    \"\"\"\n",
    "    # your code is here"
   ]
  },
  {
   "cell_type": "markdown",
   "id": "45a3e9c5",
   "metadata": {},
   "source": [
    "**Задание 5. (0.25 баллов)**. Реализуйте демпфированный метод Ньютона. В качестве критерия останова используйте норму градиента (гиперпараметр `tol`).\n",
    "\n",
    "*Замечание.* callback вызывать в конце каждой итерации."
   ]
  },
  {
   "cell_type": "code",
   "execution_count": null,
   "id": "95a90aaf",
   "metadata": {},
   "outputs": [],
   "source": [
    "from scipy.optimize import OptimizeResult\n",
    "\n",
    "\n",
    "def Newton(fun, x0, *args, **kwargs) -> OptimizeResult:\n",
    "    # helper functions\n",
    "    callback = kwargs['callback']\n",
    "    jac = kwargs['jac']\n",
    "    hess = kwargs['hess']\n",
    "\n",
    "    # hyper params\n",
    "    max_iter = kwargs['max_iter']\n",
    "    tol = kwargs['tol']\n",
    "    alpha0 = kwargs['alpha0']\n",
    "\n",
    "    x = x0\n",
    "    for t in range(1, max_iter+1):\n",
    "        # your code is here\n",
    "    \n",
    "    return OptimizeResult(\n",
    "        fun = loss,                 # resulting loss value\n",
    "        x = x,                      # optimal weights\n",
    "        n_it = t,                   # number of iterations used\n",
    "        success = (t != max_iter)   # flag of success\n",
    "    )"
   ]
  },
  {
   "cell_type": "markdown",
   "id": "65a121ce",
   "metadata": {},
   "source": [
    "Следующая ячейка должна выполняться без ошибок и сообщать об успешной оптимизации"
   ]
  },
  {
   "cell_type": "code",
   "execution_count": null,
   "id": "ae5e9a21",
   "metadata": {},
   "outputs": [],
   "source": [
    "oracle = Oracle(features, targets)\n",
    "cb = Logger()\n",
    "weights = np.random.normal(size=2)\n",
    "res = minimize(\n",
    "    oracle.fun, weights,\n",
    "    method=Newton,\n",
    "    jac=oracle.jac,\n",
    "    hess=oracle.hess,\n",
    "    callback=cb,\n",
    "    options=dict(\n",
    "        tol=0.1,\n",
    "        max_iter=10,\n",
    "        alpha0=1\n",
    "    )\n",
    ")\n",
    "res"
   ]
  },
  {
   "cell_type": "markdown",
   "id": "dffef7de",
   "metadata": {},
   "source": [
    "**Задание 6 (0.75 баллов)**. Применим методы к реальным данным"
   ]
  },
  {
   "cell_type": "markdown",
   "id": "acf36d9c",
   "metadata": {},
   "source": [
    "Применим наши три алгоритма к реальным данным. Источник данных: https://www.kaggle.com/datasets/pablomonleon/montreal-bike-lanes. \n",
    "\n",
    "Описание к датасету:\n",
    "> Is there a relationship between the number of bicyclists who use different bike paths on the same day? Can you predict how many riders there will be on one path given how many are on another?"
   ]
  },
  {
   "cell_type": "code",
   "execution_count": null,
   "id": "4f9032b1",
   "metadata": {},
   "outputs": [],
   "source": [
    "import pandas as pd\n",
    "\n",
    "df = pd.read_csv('dataset.csv')\n",
    "\n",
    "target = df['target']\n",
    "features = df.drop(columns=['target'])\n",
    "print(features.shape, target.shape)\n",
    "features.head()"
   ]
  },
  {
   "cell_type": "markdown",
   "id": "1857cb1c",
   "metadata": {},
   "source": [
    "Следующая ячейка кодирует временные признаки и нормирует все остальные:"
   ]
  },
  {
   "cell_type": "code",
   "execution_count": null,
   "id": "191cf2db",
   "metadata": {},
   "outputs": [],
   "source": [
    "# cycle encode time features\n",
    "data = features[['month', 'day']].copy()\n",
    "data['month_sin'] = np.sin(2 * np.pi * data['month']/31)\n",
    "data['month_cos'] = np.cos(2 * np.pi * data['month']/31)\n",
    "\n",
    "data['day_sin'] = np.sin(2 * np.pi * data['day']/12)\n",
    "data['day_cos'] = np.cos(2 * np.pi * data['day']/12)\n",
    "\n",
    "# normalize other features\n",
    "data2 = features.drop(columns=['month', 'day'])\n",
    "data2 = (data2 - data2.mean()) / data2.std()\n",
    "\n",
    "# add constant feature\n",
    "n_samples = df.shape[0]\n",
    "features = pd.concat([data2, data[['month_sin', 'month_cos', 'day_sin', 'day_cos']]], axis=1)\n",
    "features['constant'] = np.ones(n_samples)\n",
    "features.head()"
   ]
  },
  {
   "cell_type": "code",
   "execution_count": null,
   "id": "6864a8e7",
   "metadata": {},
   "outputs": [],
   "source": [
    "X = features.to_numpy()\n",
    "y = target.to_numpy()\n",
    "\n",
    "X.shape, y.shape"
   ]
  },
  {
   "cell_type": "markdown",
   "id": "5fd1bcff",
   "metadata": {},
   "source": [
    "Разделите выборку случайно на трейн и тест в отношении 9:1, зафиксируйте `seed=0`. Обучите следующие алгоритмы и измерьте качество на отложенной выборке:\n",
    "\n",
    "- LBFGS\n",
    "- Newton-CG\n",
    "- Newton\n",
    "- `sklearn.linear_model.PoissonRegressor`\n",
    "\n",
    "**Замечание.** Если для метода Ньютона раз в несколько запусков появляется ошибка `singular matrix`, то ничего страшного (наверное). Если метод часто расходится, то попробуйте поварьировать параметр `alpha0` или другие параметры бектрекинга.\n",
    "\n",
    "**Подсказка.** Меряйте качество на отложенной выборке так: `np.mean((np.log(pred + 1) - np.log(y + 1)) ** 2)`.\n",
    "\n",
    "**(!)** Для каждого алгоритма постройте scatterplot для пар (true, pred) на трейне и на тесте, который покажет, как плохи/хороши полученные предсказания.\n",
    "\n",
    "**(!)** Сделайте выводы о полученных результатах. Насколько они согласуются с вашими ожиданиями?"
   ]
  },
  {
   "cell_type": "code",
   "execution_count": null,
   "id": "1ce1e074",
   "metadata": {},
   "outputs": [],
   "source": [
    "### YOUR ADVENTURE STARTS HEREz"
   ]
  },
  {
   "cell_type": "markdown",
   "id": "768f264b",
   "metadata": {},
   "source": [
    "### Часть 5. (1.5 баллов) CVXPY"
   ]
  },
  {
   "cell_type": "markdown",
   "id": "6ff0571d",
   "metadata": {},
   "source": [
    "Для анализа изображений часто используется метод неотрицательной матричной факторизации ([Nonnegative matrix factorization](https://arxiv.org/pdf/1401.5226.pdf)). \n",
    "Идея в том, чтобы решить следующую задачу\n",
    "\n",
    "\\begin{align*}\n",
    "& \\min_{W, H} \\frac12 \\|X - WH\\|^2_F \\\\\n",
    "\\text{s.t. } & W \\geq 0\\\\\n",
    "& H \\geq 0,\n",
    "\\end{align*}\n",
    "\n",
    "где знак $\\geq$ означает покомпонентное сравнение. \n",
    "Также матрицы $W$ и $H$ малого ранга, то есть $W \\in \\mathbb{R}^{m \\times k}$ и $H \\in \\mathbb{R}^{k \\times n}$, где $k$ - параметр, который необходимо настраивать.\n",
    "Чем больше $k$, тем точнее приближение, но и тем дольше будет решаться задача.\n",
    "Матрица $X \\in \\mathbb{R}^{m \\times n}$, где $m$ - это число фото в нашем наборе, а $n$ - это количество пикселей в каждой картинке, то есть каждая строка матрицы $X$ - это векторизованная картинка."
   ]
  },
  {
   "cell_type": "markdown",
   "id": "babaf7a6",
   "metadata": {},
   "source": [
    "**Задание 0. (0.15 баллов)** Как можно интерпретировать факторы $W$ и $H$ и почему важна их покомпонентная не отрицательность?"
   ]
  },
  {
   "cell_type": "markdown",
   "id": "58959158",
   "metadata": {},
   "source": [
    "**Ответ:**"
   ]
  },
  {
   "cell_type": "markdown",
   "id": "13e30ee1",
   "metadata": {},
   "source": [
    "Такую задачу можно решать с помощью cvxpy, если воспользоваться идеей попеременной оптимизации (alternating optimization). Идея состоит в том, чтобы на чётных итерациях решить точно задачу относительно параметра $W$ при фиксированном параметре $H$, а на нечётных наоборот: использовать решение для $W$ с предыдущей итерации в качестве фиксированного параметра и найти решение задачи относительно $H$ и так далее до сходимости.\n",
    "Сначала Вам нужно инициализировать матрицы $W$ и $H$ какими-нибудь матрицами с неотрицательными элементами."
   ]
  },
  {
   "cell_type": "markdown",
   "id": "b3e39536",
   "metadata": {},
   "source": [
    "Загрузим данные. Мы будем раскладывать изображения лиц. О таком подходе к анализу фотографий лиц вам рассказывали или расскажут в курсе ОиРИ, а тут вы просто реализуете этот метод"
   ]
  },
  {
   "cell_type": "code",
   "execution_count": null,
   "id": "b19d62e6",
   "metadata": {},
   "outputs": [],
   "source": [
    "import cvxpy as cvx\n",
    "import sklearn.datasets as skldata\n",
    "import matplotlib.pyplot as plt\n",
    "import sklearn.decomposition as skdec\n",
    "%matplotlib inline\n",
    "data = skldata.fetch_olivetti_faces()\n",
    "import numpy as np\n",
    "print(\"Shape of data = {}\".format(data[\"images\"].shape))\n",
    "index = 42\n",
    "plt.imshow(data[\"images\"][index], cmap=plt.cm.Greys)\n",
    "plt.colorbar()\n",
    "_ = plt.axis(\"off\")"
   ]
  },
  {
   "cell_type": "markdown",
   "id": "37b18bef",
   "metadata": {},
   "source": [
    "**Задание 1. (1.05 балл)** Реализуйте с помощью cvxpy идею попеременной оптимизации для этой задачи и решите её\n",
    "\n",
    "*Совет от Соника:* Сперва тестируйте алгоритм не на всех данных, так как вычисления занимают большое количество времени\n",
    "\n",
    "*Замечание*: все еще можно менять интерфейсы функций"
   ]
  },
  {
   "cell_type": "markdown",
   "id": "b68a9040-dc09-4933-94a8-6758cff005d6",
   "metadata": {},
   "source": [
    "**Важное замечание.**\n",
    "\n",
    "Если у вас уходит больше трех минут на итерацию, то скорее всего что-то идет не так. Алгоритм действий в таком случае:\n",
    "1) Проверить, что стоит нормальный солвер (авторское решение на CLARABEL, его нужно поставить отдельно и перезапустить среду);\n",
    "2) Не использовать Colab, так как там используются старые CPU, и вычисления на них могут быть слишком медленные;\n",
    "3) Уменьшить размер данных;\n",
    "4) Использовать ранг поменьше. "
   ]
  },
  {
   "cell_type": "code",
   "execution_count": null,
   "id": "ec536474",
   "metadata": {},
   "outputs": [],
   "source": [
    "def non_negative_matrix_factorization(X, rank, max_iters, tol, log=False):\n",
    "    \"\"\"\n",
    "    X - матрица изображений. Каждое изображение является строкой\n",
    "    rank - какой будете использовать ранг\n",
    "    max_iters - максимальное количество итераций\n",
    "    tol - точность, с какой решается задача\n",
    "    log - флаг, отвечающий за то, будете ли вы печатать логи или нет (такое желание может возникнуть, так как\n",
    "    алгоритм будет работать долго)\n",
    "    Функция возвращает найденные матрицы H и W, а также значения функционала в ходе оптимизации\n",
    "    \"\"\"\n",
    "    ### YOUR CODE HERE\n",
    "    return H, W, objective_values"
   ]
  },
  {
   "cell_type": "code",
   "execution_count": null,
   "id": "9e582522",
   "metadata": {},
   "outputs": [],
   "source": [
    "### YOUR CODE HERE"
   ]
  },
  {
   "cell_type": "markdown",
   "id": "844e2cf3",
   "metadata": {},
   "source": [
    "**Задание 2. (0.1 балл)** Нарисуйте график сходимости по функции и убедитесь, что метод сошёлся или же изменение целевой функции пренебрежимо мало"
   ]
  },
  {
   "cell_type": "code",
   "execution_count": null,
   "id": "448bd11c",
   "metadata": {},
   "outputs": [],
   "source": [
    "### YOUR CODE HERE"
   ]
  },
  {
   "cell_type": "markdown",
   "id": "81389a6d",
   "metadata": {},
   "source": [
    "**Задание 3. (0.1 баллов)** Поскольку размерность $H$ - $k \\times n$, то каждую строку $H$ можно преобразовать в картинку аналогично тому, как были собраны строки матрицы $X$. Нарисуйте 10 картинок полученных из строк матрицы $H$. Что Вы заметили и как это соотносится с ответами на вопрос задания 0?\n",
    "\n",
    "*Hint:* Используйте ```plt.colorbar()``` и цветовую схему ```plt.cm.Greys``` для более чёткого отображения значений пикселей"
   ]
  },
  {
   "cell_type": "code",
   "execution_count": null,
   "id": "66d08a4d",
   "metadata": {},
   "outputs": [],
   "source": [
    "### YOUR CODE HERE"
   ]
  },
  {
   "cell_type": "markdown",
   "id": "839709ba",
   "metadata": {},
   "source": [
    "**Задание 4. (0.1 баллов)** Нарисуйте матрицу $W$ с помощью функции `plt.imshow` (или `plt.spy`). Насколько сильно она заполнена и почему?"
   ]
  },
  {
   "cell_type": "code",
   "execution_count": null,
   "id": "a9f7c646",
   "metadata": {},
   "outputs": [],
   "source": [
    "### YOUR CODE HERE"
   ]
  },
  {
   "cell_type": "markdown",
   "id": "1ecc77e6",
   "metadata": {},
   "source": [
    "### Бонус"
   ]
  },
  {
   "cell_type": "markdown",
   "id": "9bec0a06",
   "metadata": {},
   "source": [
    "**Задание. (0.7 баллов)** Пробудите в себе внутреннего мемодела и придумайте мемный шедевр на тему ваших взаимоотношений с методами оптимизации."
   ]
  },
  {
   "cell_type": "markdown",
   "id": "eaa36df4",
   "metadata": {},
   "source": [
    "**Ваш мем:**"
   ]
  }
 ],
 "metadata": {
  "kernelspec": {
   "display_name": "Python 3 (ipykernel)",
   "language": "python",
   "name": "python3"
  },
  "language_info": {
   "codemirror_mode": {
    "name": "ipython",
    "version": 3
   },
   "file_extension": ".py",
   "mimetype": "text/x-python",
   "name": "python",
   "nbconvert_exporter": "python",
   "pygments_lexer": "ipython3",
   "version": "3.9.16"
  }
 },
 "nbformat": 4,
 "nbformat_minor": 5
}
